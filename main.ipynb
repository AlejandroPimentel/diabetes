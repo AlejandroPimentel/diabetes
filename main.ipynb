{
 "cells": [
  {
   "cell_type": "code",
   "execution_count": 1,
   "metadata": {},
   "outputs": [],
   "source": [
    "# Python ≥3.5\n",
    "import sys\n",
    "assert sys.version_info >= (3, 5)\n",
    "\n",
    "# Scikit-Learn ≥0.20\n",
    "import sklearn\n",
    "assert sklearn.__version__ >= \"0.20\"\n",
    "\n",
    "# Common imports\n",
    "import numpy as np\n",
    "import os\n",
    "import pandas as pd\n",
    "\n",
    "# Matplotlif config\n",
    "%matplotlib inline\n",
    "import matplotlib as mpl\n",
    "import matplotlib.pyplot as plt\n",
    "import seaborn as sns\n",
    "mpl.rc('axes', labelsize=14)\n",
    "mpl.rc('xtick', labelsize=12)\n",
    "mpl.rc('ytick', labelsize=12)\n",
    "\n",
    "from sklearn.metrics import accuracy_score, recall_score, \\\n",
    "    precision_score, f1_score, roc_auc_score, log_loss, \\\n",
    "    confusion_matrix, plot_confusion_matrix\n",
    "\n",
    "from sklearn.model_selection import RandomizedSearchCV\n",
    "from sklearn.ensemble import GradientBoostingClassifier, RandomForestClassifier\n",
    "\n",
    "from scipy.stats import uniform, reciprocal\n",
    "# Save images\n",
    "PROJECT_ROOT_DIR = \".\"\n",
    "IMAGES_PATH = os.path.join(PROJECT_ROOT_DIR, \"images\")\n",
    "os.makedirs(IMAGES_PATH, exist_ok=True)\n",
    "\n",
    "def save_fig(fig_id, tight_layout=True, fig_extension=\"png\", resolution=300):\n",
    "    path = os.path.join(IMAGES_PATH, fig_id + \".\" + fig_extension)\n",
    "    print(\"Saving figure\", fig_id)\n",
    "    if tight_layout:\n",
    "        plt.tight_layout()\n",
    "    plt.savefig(path, format=fig_extension, dpi=resolution)\n",
    "    \n",
    "\n",
    "# Multiple outpunts shown\n",
    "from IPython.core.interactiveshell import InteractiveShell\n",
    "InteractiveShell.ast_node_interactivity = 'all'"
   ]
  },
  {
   "cell_type": "markdown",
   "metadata": {},
   "source": [
    "# Data"
   ]
  },
  {
   "cell_type": "markdown",
   "metadata": {},
   "source": [
    "## Loading"
   ]
  },
  {
   "cell_type": "code",
   "execution_count": 2,
   "metadata": {},
   "outputs": [],
   "source": [
    "DATA_PATH = os.path.join(PROJECT_ROOT_DIR, \"Data\", \"Input\")\n",
    "\n",
    "def load_data(data_path=DATA_PATH, file_name='diabetic_data.csv'):\n",
    "    csv_path = os.path.join(data_path, file_name)\n",
    "    return pd.read_csv(csv_path)"
   ]
  },
  {
   "cell_type": "code",
   "execution_count": 3,
   "metadata": {},
   "outputs": [],
   "source": [
    "from sklearn.model_selection import train_test_split\n",
    "\n",
    "data = load_data()"
   ]
  },
  {
   "cell_type": "markdown",
   "metadata": {},
   "source": [
    "## Getting to know the data"
   ]
  },
  {
   "cell_type": "markdown",
   "metadata": {},
   "source": [
    "### General info"
   ]
  },
  {
   "cell_type": "code",
   "execution_count": 4,
   "metadata": {},
   "outputs": [
    {
     "data": {
      "text/html": [
       "<div>\n",
       "<style scoped>\n",
       "    .dataframe tbody tr th:only-of-type {\n",
       "        vertical-align: middle;\n",
       "    }\n",
       "\n",
       "    .dataframe tbody tr th {\n",
       "        vertical-align: top;\n",
       "    }\n",
       "\n",
       "    .dataframe thead th {\n",
       "        text-align: right;\n",
       "    }\n",
       "</style>\n",
       "<table border=\"1\" class=\"dataframe\">\n",
       "  <thead>\n",
       "    <tr style=\"text-align: right;\">\n",
       "      <th></th>\n",
       "      <th>58174</th>\n",
       "      <th>61057</th>\n",
       "      <th>15193</th>\n",
       "      <th>72150</th>\n",
       "      <th>84010</th>\n",
       "    </tr>\n",
       "  </thead>\n",
       "  <tbody>\n",
       "    <tr>\n",
       "      <th>encounter_id</th>\n",
       "      <td>165104796</td>\n",
       "      <td>170674902</td>\n",
       "      <td>58510128</td>\n",
       "      <td>210600396</td>\n",
       "      <td>264018372</td>\n",
       "    </tr>\n",
       "    <tr>\n",
       "      <th>patient_nbr</th>\n",
       "      <td>23659110</td>\n",
       "      <td>85922757</td>\n",
       "      <td>1432161</td>\n",
       "      <td>94072113</td>\n",
       "      <td>40874013</td>\n",
       "    </tr>\n",
       "    <tr>\n",
       "      <th>race</th>\n",
       "      <td>AfricanAmerican</td>\n",
       "      <td>Caucasian</td>\n",
       "      <td>Caucasian</td>\n",
       "      <td>AfricanAmerican</td>\n",
       "      <td>Caucasian</td>\n",
       "    </tr>\n",
       "    <tr>\n",
       "      <th>gender</th>\n",
       "      <td>Female</td>\n",
       "      <td>Female</td>\n",
       "      <td>Female</td>\n",
       "      <td>Male</td>\n",
       "      <td>Female</td>\n",
       "    </tr>\n",
       "    <tr>\n",
       "      <th>age</th>\n",
       "      <td>[60-70)</td>\n",
       "      <td>[80-90)</td>\n",
       "      <td>[40-50)</td>\n",
       "      <td>[30-40)</td>\n",
       "      <td>[80-90)</td>\n",
       "    </tr>\n",
       "    <tr>\n",
       "      <th>weight</th>\n",
       "      <td>?</td>\n",
       "      <td>?</td>\n",
       "      <td>?</td>\n",
       "      <td>?</td>\n",
       "      <td>?</td>\n",
       "    </tr>\n",
       "    <tr>\n",
       "      <th>admission_type_id</th>\n",
       "      <td>1</td>\n",
       "      <td>1</td>\n",
       "      <td>2</td>\n",
       "      <td>1</td>\n",
       "      <td>3</td>\n",
       "    </tr>\n",
       "    <tr>\n",
       "      <th>discharge_disposition_id</th>\n",
       "      <td>6</td>\n",
       "      <td>1</td>\n",
       "      <td>18</td>\n",
       "      <td>1</td>\n",
       "      <td>6</td>\n",
       "    </tr>\n",
       "    <tr>\n",
       "      <th>admission_source_id</th>\n",
       "      <td>7</td>\n",
       "      <td>7</td>\n",
       "      <td>1</td>\n",
       "      <td>7</td>\n",
       "      <td>1</td>\n",
       "    </tr>\n",
       "    <tr>\n",
       "      <th>time_in_hospital</th>\n",
       "      <td>4</td>\n",
       "      <td>3</td>\n",
       "      <td>3</td>\n",
       "      <td>1</td>\n",
       "      <td>11</td>\n",
       "    </tr>\n",
       "    <tr>\n",
       "      <th>payer_code</th>\n",
       "      <td>MC</td>\n",
       "      <td>MC</td>\n",
       "      <td>?</td>\n",
       "      <td>HM</td>\n",
       "      <td>MC</td>\n",
       "    </tr>\n",
       "    <tr>\n",
       "      <th>medical_specialty</th>\n",
       "      <td>InternalMedicine</td>\n",
       "      <td>?</td>\n",
       "      <td>Family/GeneralPractice</td>\n",
       "      <td>?</td>\n",
       "      <td>?</td>\n",
       "    </tr>\n",
       "    <tr>\n",
       "      <th>num_lab_procedures</th>\n",
       "      <td>43</td>\n",
       "      <td>57</td>\n",
       "      <td>42</td>\n",
       "      <td>37</td>\n",
       "      <td>50</td>\n",
       "    </tr>\n",
       "    <tr>\n",
       "      <th>num_procedures</th>\n",
       "      <td>0</td>\n",
       "      <td>0</td>\n",
       "      <td>0</td>\n",
       "      <td>0</td>\n",
       "      <td>0</td>\n",
       "    </tr>\n",
       "    <tr>\n",
       "      <th>num_medications</th>\n",
       "      <td>14</td>\n",
       "      <td>9</td>\n",
       "      <td>16</td>\n",
       "      <td>4</td>\n",
       "      <td>20</td>\n",
       "    </tr>\n",
       "    <tr>\n",
       "      <th>number_outpatient</th>\n",
       "      <td>0</td>\n",
       "      <td>0</td>\n",
       "      <td>0</td>\n",
       "      <td>0</td>\n",
       "      <td>0</td>\n",
       "    </tr>\n",
       "    <tr>\n",
       "      <th>number_emergency</th>\n",
       "      <td>2</td>\n",
       "      <td>1</td>\n",
       "      <td>0</td>\n",
       "      <td>0</td>\n",
       "      <td>0</td>\n",
       "    </tr>\n",
       "    <tr>\n",
       "      <th>number_inpatient</th>\n",
       "      <td>2</td>\n",
       "      <td>0</td>\n",
       "      <td>0</td>\n",
       "      <td>0</td>\n",
       "      <td>0</td>\n",
       "    </tr>\n",
       "    <tr>\n",
       "      <th>diag_1</th>\n",
       "      <td>599</td>\n",
       "      <td>599</td>\n",
       "      <td>491</td>\n",
       "      <td>250.11</td>\n",
       "      <td>V57</td>\n",
       "    </tr>\n",
       "    <tr>\n",
       "      <th>diag_2</th>\n",
       "      <td>707</td>\n",
       "      <td>276</td>\n",
       "      <td>599</td>\n",
       "      <td>276</td>\n",
       "      <td>V54</td>\n",
       "    </tr>\n",
       "    <tr>\n",
       "      <th>diag_3</th>\n",
       "      <td>41</td>\n",
       "      <td>786</td>\n",
       "      <td>250</td>\n",
       "      <td>401</td>\n",
       "      <td>733</td>\n",
       "    </tr>\n",
       "    <tr>\n",
       "      <th>number_diagnoses</th>\n",
       "      <td>9</td>\n",
       "      <td>9</td>\n",
       "      <td>5</td>\n",
       "      <td>6</td>\n",
       "      <td>8</td>\n",
       "    </tr>\n",
       "    <tr>\n",
       "      <th>max_glu_serum</th>\n",
       "      <td>None</td>\n",
       "      <td>None</td>\n",
       "      <td>None</td>\n",
       "      <td>None</td>\n",
       "      <td>None</td>\n",
       "    </tr>\n",
       "    <tr>\n",
       "      <th>A1Cresult</th>\n",
       "      <td>None</td>\n",
       "      <td>Norm</td>\n",
       "      <td>None</td>\n",
       "      <td>None</td>\n",
       "      <td>None</td>\n",
       "    </tr>\n",
       "    <tr>\n",
       "      <th>metformin</th>\n",
       "      <td>Steady</td>\n",
       "      <td>No</td>\n",
       "      <td>No</td>\n",
       "      <td>No</td>\n",
       "      <td>No</td>\n",
       "    </tr>\n",
       "    <tr>\n",
       "      <th>repaglinide</th>\n",
       "      <td>No</td>\n",
       "      <td>No</td>\n",
       "      <td>No</td>\n",
       "      <td>No</td>\n",
       "      <td>No</td>\n",
       "    </tr>\n",
       "    <tr>\n",
       "      <th>nateglinide</th>\n",
       "      <td>No</td>\n",
       "      <td>No</td>\n",
       "      <td>No</td>\n",
       "      <td>No</td>\n",
       "      <td>No</td>\n",
       "    </tr>\n",
       "    <tr>\n",
       "      <th>chlorpropamide</th>\n",
       "      <td>No</td>\n",
       "      <td>No</td>\n",
       "      <td>No</td>\n",
       "      <td>No</td>\n",
       "      <td>No</td>\n",
       "    </tr>\n",
       "    <tr>\n",
       "      <th>glimepiride</th>\n",
       "      <td>No</td>\n",
       "      <td>No</td>\n",
       "      <td>No</td>\n",
       "      <td>No</td>\n",
       "      <td>No</td>\n",
       "    </tr>\n",
       "    <tr>\n",
       "      <th>acetohexamide</th>\n",
       "      <td>No</td>\n",
       "      <td>No</td>\n",
       "      <td>No</td>\n",
       "      <td>No</td>\n",
       "      <td>No</td>\n",
       "    </tr>\n",
       "    <tr>\n",
       "      <th>glipizide</th>\n",
       "      <td>No</td>\n",
       "      <td>No</td>\n",
       "      <td>No</td>\n",
       "      <td>No</td>\n",
       "      <td>No</td>\n",
       "    </tr>\n",
       "    <tr>\n",
       "      <th>glyburide</th>\n",
       "      <td>No</td>\n",
       "      <td>No</td>\n",
       "      <td>No</td>\n",
       "      <td>No</td>\n",
       "      <td>No</td>\n",
       "    </tr>\n",
       "    <tr>\n",
       "      <th>tolbutamide</th>\n",
       "      <td>No</td>\n",
       "      <td>No</td>\n",
       "      <td>No</td>\n",
       "      <td>No</td>\n",
       "      <td>No</td>\n",
       "    </tr>\n",
       "    <tr>\n",
       "      <th>pioglitazone</th>\n",
       "      <td>No</td>\n",
       "      <td>No</td>\n",
       "      <td>No</td>\n",
       "      <td>No</td>\n",
       "      <td>No</td>\n",
       "    </tr>\n",
       "    <tr>\n",
       "      <th>rosiglitazone</th>\n",
       "      <td>No</td>\n",
       "      <td>No</td>\n",
       "      <td>No</td>\n",
       "      <td>No</td>\n",
       "      <td>No</td>\n",
       "    </tr>\n",
       "    <tr>\n",
       "      <th>acarbose</th>\n",
       "      <td>No</td>\n",
       "      <td>No</td>\n",
       "      <td>No</td>\n",
       "      <td>No</td>\n",
       "      <td>No</td>\n",
       "    </tr>\n",
       "    <tr>\n",
       "      <th>miglitol</th>\n",
       "      <td>No</td>\n",
       "      <td>No</td>\n",
       "      <td>No</td>\n",
       "      <td>No</td>\n",
       "      <td>No</td>\n",
       "    </tr>\n",
       "    <tr>\n",
       "      <th>troglitazone</th>\n",
       "      <td>No</td>\n",
       "      <td>No</td>\n",
       "      <td>No</td>\n",
       "      <td>No</td>\n",
       "      <td>No</td>\n",
       "    </tr>\n",
       "    <tr>\n",
       "      <th>tolazamide</th>\n",
       "      <td>No</td>\n",
       "      <td>No</td>\n",
       "      <td>No</td>\n",
       "      <td>No</td>\n",
       "      <td>No</td>\n",
       "    </tr>\n",
       "    <tr>\n",
       "      <th>examide</th>\n",
       "      <td>No</td>\n",
       "      <td>No</td>\n",
       "      <td>No</td>\n",
       "      <td>No</td>\n",
       "      <td>No</td>\n",
       "    </tr>\n",
       "    <tr>\n",
       "      <th>citoglipton</th>\n",
       "      <td>No</td>\n",
       "      <td>No</td>\n",
       "      <td>No</td>\n",
       "      <td>No</td>\n",
       "      <td>No</td>\n",
       "    </tr>\n",
       "    <tr>\n",
       "      <th>insulin</th>\n",
       "      <td>No</td>\n",
       "      <td>No</td>\n",
       "      <td>Down</td>\n",
       "      <td>Steady</td>\n",
       "      <td>No</td>\n",
       "    </tr>\n",
       "    <tr>\n",
       "      <th>glyburide-metformin</th>\n",
       "      <td>No</td>\n",
       "      <td>No</td>\n",
       "      <td>No</td>\n",
       "      <td>No</td>\n",
       "      <td>No</td>\n",
       "    </tr>\n",
       "    <tr>\n",
       "      <th>glipizide-metformin</th>\n",
       "      <td>No</td>\n",
       "      <td>No</td>\n",
       "      <td>No</td>\n",
       "      <td>No</td>\n",
       "      <td>No</td>\n",
       "    </tr>\n",
       "    <tr>\n",
       "      <th>glimepiride-pioglitazone</th>\n",
       "      <td>No</td>\n",
       "      <td>No</td>\n",
       "      <td>No</td>\n",
       "      <td>No</td>\n",
       "      <td>No</td>\n",
       "    </tr>\n",
       "    <tr>\n",
       "      <th>metformin-rosiglitazone</th>\n",
       "      <td>No</td>\n",
       "      <td>No</td>\n",
       "      <td>No</td>\n",
       "      <td>No</td>\n",
       "      <td>No</td>\n",
       "    </tr>\n",
       "    <tr>\n",
       "      <th>metformin-pioglitazone</th>\n",
       "      <td>No</td>\n",
       "      <td>No</td>\n",
       "      <td>No</td>\n",
       "      <td>No</td>\n",
       "      <td>No</td>\n",
       "    </tr>\n",
       "    <tr>\n",
       "      <th>change</th>\n",
       "      <td>No</td>\n",
       "      <td>No</td>\n",
       "      <td>Ch</td>\n",
       "      <td>No</td>\n",
       "      <td>No</td>\n",
       "    </tr>\n",
       "    <tr>\n",
       "      <th>diabetesMed</th>\n",
       "      <td>Yes</td>\n",
       "      <td>No</td>\n",
       "      <td>Yes</td>\n",
       "      <td>Yes</td>\n",
       "      <td>No</td>\n",
       "    </tr>\n",
       "    <tr>\n",
       "      <th>readmitted</th>\n",
       "      <td>NO</td>\n",
       "      <td>NO</td>\n",
       "      <td>&gt;30</td>\n",
       "      <td>&gt;30</td>\n",
       "      <td>NO</td>\n",
       "    </tr>\n",
       "  </tbody>\n",
       "</table>\n",
       "</div>"
      ],
      "text/plain": [
       "                                     58174      61057                   15193  \\\n",
       "encounter_id                     165104796  170674902                58510128   \n",
       "patient_nbr                       23659110   85922757                 1432161   \n",
       "race                       AfricanAmerican  Caucasian               Caucasian   \n",
       "gender                              Female     Female                  Female   \n",
       "age                                [60-70)    [80-90)                 [40-50)   \n",
       "weight                                   ?          ?                       ?   \n",
       "admission_type_id                        1          1                       2   \n",
       "discharge_disposition_id                 6          1                      18   \n",
       "admission_source_id                      7          7                       1   \n",
       "time_in_hospital                         4          3                       3   \n",
       "payer_code                              MC         MC                       ?   \n",
       "medical_specialty         InternalMedicine          ?  Family/GeneralPractice   \n",
       "num_lab_procedures                      43         57                      42   \n",
       "num_procedures                           0          0                       0   \n",
       "num_medications                         14          9                      16   \n",
       "number_outpatient                        0          0                       0   \n",
       "number_emergency                         2          1                       0   \n",
       "number_inpatient                         2          0                       0   \n",
       "diag_1                                 599        599                     491   \n",
       "diag_2                                 707        276                     599   \n",
       "diag_3                                  41        786                     250   \n",
       "number_diagnoses                         9          9                       5   \n",
       "max_glu_serum                         None       None                    None   \n",
       "A1Cresult                             None       Norm                    None   \n",
       "metformin                           Steady         No                      No   \n",
       "repaglinide                             No         No                      No   \n",
       "nateglinide                             No         No                      No   \n",
       "chlorpropamide                          No         No                      No   \n",
       "glimepiride                             No         No                      No   \n",
       "acetohexamide                           No         No                      No   \n",
       "glipizide                               No         No                      No   \n",
       "glyburide                               No         No                      No   \n",
       "tolbutamide                             No         No                      No   \n",
       "pioglitazone                            No         No                      No   \n",
       "rosiglitazone                           No         No                      No   \n",
       "acarbose                                No         No                      No   \n",
       "miglitol                                No         No                      No   \n",
       "troglitazone                            No         No                      No   \n",
       "tolazamide                              No         No                      No   \n",
       "examide                                 No         No                      No   \n",
       "citoglipton                             No         No                      No   \n",
       "insulin                                 No         No                    Down   \n",
       "glyburide-metformin                     No         No                      No   \n",
       "glipizide-metformin                     No         No                      No   \n",
       "glimepiride-pioglitazone                No         No                      No   \n",
       "metformin-rosiglitazone                 No         No                      No   \n",
       "metformin-pioglitazone                  No         No                      No   \n",
       "change                                  No         No                      Ch   \n",
       "diabetesMed                            Yes         No                     Yes   \n",
       "readmitted                              NO         NO                     >30   \n",
       "\n",
       "                                    72150      84010  \n",
       "encounter_id                    210600396  264018372  \n",
       "patient_nbr                      94072113   40874013  \n",
       "race                      AfricanAmerican  Caucasian  \n",
       "gender                               Male     Female  \n",
       "age                               [30-40)    [80-90)  \n",
       "weight                                  ?          ?  \n",
       "admission_type_id                       1          3  \n",
       "discharge_disposition_id                1          6  \n",
       "admission_source_id                     7          1  \n",
       "time_in_hospital                        1         11  \n",
       "payer_code                             HM         MC  \n",
       "medical_specialty                       ?          ?  \n",
       "num_lab_procedures                     37         50  \n",
       "num_procedures                          0          0  \n",
       "num_medications                         4         20  \n",
       "number_outpatient                       0          0  \n",
       "number_emergency                        0          0  \n",
       "number_inpatient                        0          0  \n",
       "diag_1                             250.11        V57  \n",
       "diag_2                                276        V54  \n",
       "diag_3                                401        733  \n",
       "number_diagnoses                        6          8  \n",
       "max_glu_serum                        None       None  \n",
       "A1Cresult                            None       None  \n",
       "metformin                              No         No  \n",
       "repaglinide                            No         No  \n",
       "nateglinide                            No         No  \n",
       "chlorpropamide                         No         No  \n",
       "glimepiride                            No         No  \n",
       "acetohexamide                          No         No  \n",
       "glipizide                              No         No  \n",
       "glyburide                              No         No  \n",
       "tolbutamide                            No         No  \n",
       "pioglitazone                           No         No  \n",
       "rosiglitazone                          No         No  \n",
       "acarbose                               No         No  \n",
       "miglitol                               No         No  \n",
       "troglitazone                           No         No  \n",
       "tolazamide                             No         No  \n",
       "examide                                No         No  \n",
       "citoglipton                            No         No  \n",
       "insulin                            Steady         No  \n",
       "glyburide-metformin                    No         No  \n",
       "glipizide-metformin                    No         No  \n",
       "glimepiride-pioglitazone               No         No  \n",
       "metformin-rosiglitazone                No         No  \n",
       "metformin-pioglitazone                 No         No  \n",
       "change                                 No         No  \n",
       "diabetesMed                           Yes         No  \n",
       "readmitted                            >30         NO  "
      ]
     },
     "execution_count": 4,
     "metadata": {},
     "output_type": "execute_result"
    }
   ],
   "source": [
    "data.sample(5).T"
   ]
  },
  {
   "cell_type": "code",
   "execution_count": 5,
   "metadata": {},
   "outputs": [
    {
     "name": "stdout",
     "output_type": "stream",
     "text": [
      "<class 'pandas.core.frame.DataFrame'>\n",
      "RangeIndex: 101766 entries, 0 to 101765\n",
      "Data columns (total 50 columns):\n",
      " #   Column                    Non-Null Count   Dtype \n",
      "---  ------                    --------------   ----- \n",
      " 0   encounter_id              101766 non-null  int64 \n",
      " 1   patient_nbr               101766 non-null  int64 \n",
      " 2   race                      101766 non-null  object\n",
      " 3   gender                    101766 non-null  object\n",
      " 4   age                       101766 non-null  object\n",
      " 5   weight                    101766 non-null  object\n",
      " 6   admission_type_id         101766 non-null  int64 \n",
      " 7   discharge_disposition_id  101766 non-null  int64 \n",
      " 8   admission_source_id       101766 non-null  int64 \n",
      " 9   time_in_hospital          101766 non-null  int64 \n",
      " 10  payer_code                101766 non-null  object\n",
      " 11  medical_specialty         101766 non-null  object\n",
      " 12  num_lab_procedures        101766 non-null  int64 \n",
      " 13  num_procedures            101766 non-null  int64 \n",
      " 14  num_medications           101766 non-null  int64 \n",
      " 15  number_outpatient         101766 non-null  int64 \n",
      " 16  number_emergency          101766 non-null  int64 \n",
      " 17  number_inpatient          101766 non-null  int64 \n",
      " 18  diag_1                    101766 non-null  object\n",
      " 19  diag_2                    101766 non-null  object\n",
      " 20  diag_3                    101766 non-null  object\n",
      " 21  number_diagnoses          101766 non-null  int64 \n",
      " 22  max_glu_serum             101766 non-null  object\n",
      " 23  A1Cresult                 101766 non-null  object\n",
      " 24  metformin                 101766 non-null  object\n",
      " 25  repaglinide               101766 non-null  object\n",
      " 26  nateglinide               101766 non-null  object\n",
      " 27  chlorpropamide            101766 non-null  object\n",
      " 28  glimepiride               101766 non-null  object\n",
      " 29  acetohexamide             101766 non-null  object\n",
      " 30  glipizide                 101766 non-null  object\n",
      " 31  glyburide                 101766 non-null  object\n",
      " 32  tolbutamide               101766 non-null  object\n",
      " 33  pioglitazone              101766 non-null  object\n",
      " 34  rosiglitazone             101766 non-null  object\n",
      " 35  acarbose                  101766 non-null  object\n",
      " 36  miglitol                  101766 non-null  object\n",
      " 37  troglitazone              101766 non-null  object\n",
      " 38  tolazamide                101766 non-null  object\n",
      " 39  examide                   101766 non-null  object\n",
      " 40  citoglipton               101766 non-null  object\n",
      " 41  insulin                   101766 non-null  object\n",
      " 42  glyburide-metformin       101766 non-null  object\n",
      " 43  glipizide-metformin       101766 non-null  object\n",
      " 44  glimepiride-pioglitazone  101766 non-null  object\n",
      " 45  metformin-rosiglitazone   101766 non-null  object\n",
      " 46  metformin-pioglitazone    101766 non-null  object\n",
      " 47  change                    101766 non-null  object\n",
      " 48  diabetesMed               101766 non-null  object\n",
      " 49  readmitted                101766 non-null  object\n",
      "dtypes: int64(13), object(37)\n",
      "memory usage: 38.8+ MB\n"
     ]
    }
   ],
   "source": [
    "data.info()"
   ]
  },
  {
   "cell_type": "markdown",
   "metadata": {},
   "source": [
    "At first glance, there is no missing data. But given the data description we know this is not that case and we have missing data in race, weight, payer_code, medical_specialty and diag_3 columns. "
   ]
  },
  {
   "cell_type": "code",
   "execution_count": 6,
   "metadata": {},
   "outputs": [
    {
     "data": {
      "text/html": [
       "<div>\n",
       "<style scoped>\n",
       "    .dataframe tbody tr th:only-of-type {\n",
       "        vertical-align: middle;\n",
       "    }\n",
       "\n",
       "    .dataframe tbody tr th {\n",
       "        vertical-align: top;\n",
       "    }\n",
       "\n",
       "    .dataframe thead th {\n",
       "        text-align: right;\n",
       "    }\n",
       "</style>\n",
       "<table border=\"1\" class=\"dataframe\">\n",
       "  <thead>\n",
       "    <tr style=\"text-align: right;\">\n",
       "      <th></th>\n",
       "      <th>race</th>\n",
       "      <th>weight</th>\n",
       "      <th>payer_code</th>\n",
       "      <th>medical_specialty</th>\n",
       "      <th>diag_3</th>\n",
       "    </tr>\n",
       "  </thead>\n",
       "  <tbody>\n",
       "    <tr>\n",
       "      <th>69736</th>\n",
       "      <td>Caucasian</td>\n",
       "      <td>?</td>\n",
       "      <td>?</td>\n",
       "      <td>?</td>\n",
       "      <td>427</td>\n",
       "    </tr>\n",
       "    <tr>\n",
       "      <th>9468</th>\n",
       "      <td>Other</td>\n",
       "      <td>?</td>\n",
       "      <td>?</td>\n",
       "      <td>?</td>\n",
       "      <td>263</td>\n",
       "    </tr>\n",
       "    <tr>\n",
       "      <th>63568</th>\n",
       "      <td>Caucasian</td>\n",
       "      <td>?</td>\n",
       "      <td>MC</td>\n",
       "      <td>?</td>\n",
       "      <td>401</td>\n",
       "    </tr>\n",
       "    <tr>\n",
       "      <th>53237</th>\n",
       "      <td>Caucasian</td>\n",
       "      <td>?</td>\n",
       "      <td>BC</td>\n",
       "      <td>?</td>\n",
       "      <td>311</td>\n",
       "    </tr>\n",
       "    <tr>\n",
       "      <th>31837</th>\n",
       "      <td>?</td>\n",
       "      <td>?</td>\n",
       "      <td>BC</td>\n",
       "      <td>Orthopedics-Reconstructive</td>\n",
       "      <td>998</td>\n",
       "    </tr>\n",
       "  </tbody>\n",
       "</table>\n",
       "</div>"
      ],
      "text/plain": [
       "            race weight payer_code           medical_specialty diag_3\n",
       "69736  Caucasian      ?          ?                           ?    427\n",
       "9468       Other      ?          ?                           ?    263\n",
       "63568  Caucasian      ?         MC                           ?    401\n",
       "53237  Caucasian      ?         BC                           ?    311\n",
       "31837          ?      ?         BC  Orthopedics-Reconstructive    998"
      ]
     },
     "execution_count": 6,
     "metadata": {},
     "output_type": "execute_result"
    }
   ],
   "source": [
    "data[['race', 'weight', 'payer_code', 'medical_specialty', 'diag_3']]\\\n",
    "    .sample(5)"
   ]
  },
  {
   "cell_type": "markdown",
   "metadata": {},
   "source": [
    "Missing values seem to be coded with question marks"
   ]
  },
  {
   "cell_type": "code",
   "execution_count": 7,
   "metadata": {},
   "outputs": [
    {
     "data": {
      "text/html": [
       "<div>\n",
       "<style scoped>\n",
       "    .dataframe tbody tr th:only-of-type {\n",
       "        vertical-align: middle;\n",
       "    }\n",
       "\n",
       "    .dataframe tbody tr th {\n",
       "        vertical-align: top;\n",
       "    }\n",
       "\n",
       "    .dataframe thead th {\n",
       "        text-align: right;\n",
       "    }\n",
       "</style>\n",
       "<table border=\"1\" class=\"dataframe\">\n",
       "  <thead>\n",
       "    <tr style=\"text-align: right;\">\n",
       "      <th></th>\n",
       "      <th>max_glu_serum</th>\n",
       "      <th>A1Cresult</th>\n",
       "    </tr>\n",
       "  </thead>\n",
       "  <tbody>\n",
       "    <tr>\n",
       "      <th>65473</th>\n",
       "      <td>None</td>\n",
       "      <td>None</td>\n",
       "    </tr>\n",
       "    <tr>\n",
       "      <th>44140</th>\n",
       "      <td>None</td>\n",
       "      <td>None</td>\n",
       "    </tr>\n",
       "    <tr>\n",
       "      <th>93749</th>\n",
       "      <td>None</td>\n",
       "      <td>None</td>\n",
       "    </tr>\n",
       "    <tr>\n",
       "      <th>85730</th>\n",
       "      <td>None</td>\n",
       "      <td>None</td>\n",
       "    </tr>\n",
       "    <tr>\n",
       "      <th>17017</th>\n",
       "      <td>None</td>\n",
       "      <td>Norm</td>\n",
       "    </tr>\n",
       "  </tbody>\n",
       "</table>\n",
       "</div>"
      ],
      "text/plain": [
       "      max_glu_serum A1Cresult\n",
       "65473          None      None\n",
       "44140          None      None\n",
       "93749          None      None\n",
       "85730          None      None\n",
       "17017          None      Norm"
      ]
     },
     "execution_count": 7,
     "metadata": {},
     "output_type": "execute_result"
    }
   ],
   "source": [
    "# For test results, a 'None' indicates that no test was taken. I'll also take this as\n",
    "# a null value, even if it's most likely that I'll revert this at some point\n",
    "data[['max_glu_serum', 'A1Cresult']]\\\n",
    "    .sample(5)"
   ]
  },
  {
   "cell_type": "code",
   "execution_count": 8,
   "metadata": {},
   "outputs": [
    {
     "data": {
      "text/html": [
       "<div>\n",
       "<style scoped>\n",
       "    .dataframe tbody tr th:only-of-type {\n",
       "        vertical-align: middle;\n",
       "    }\n",
       "\n",
       "    .dataframe tbody tr th {\n",
       "        vertical-align: top;\n",
       "    }\n",
       "\n",
       "    .dataframe thead th {\n",
       "        text-align: right;\n",
       "    }\n",
       "</style>\n",
       "<table border=\"1\" class=\"dataframe\">\n",
       "  <thead>\n",
       "    <tr style=\"text-align: right;\">\n",
       "      <th></th>\n",
       "      <th>encounter_id</th>\n",
       "      <th>patient_nbr</th>\n",
       "    </tr>\n",
       "  </thead>\n",
       "  <tbody>\n",
       "    <tr>\n",
       "      <th>count</th>\n",
       "      <td>101766</td>\n",
       "      <td>101766</td>\n",
       "    </tr>\n",
       "    <tr>\n",
       "      <th>nunique</th>\n",
       "      <td>101766</td>\n",
       "      <td>71518</td>\n",
       "    </tr>\n",
       "  </tbody>\n",
       "</table>\n",
       "</div>"
      ],
      "text/plain": [
       "         encounter_id  patient_nbr\n",
       "count          101766       101766\n",
       "nunique        101766        71518"
      ]
     },
     "execution_count": 8,
     "metadata": {},
     "output_type": "execute_result"
    }
   ],
   "source": [
    "# encounter_id is our unique row identifier, each is unique\n",
    "# patients can be registered multiple timesin the dataset\n",
    "data\\\n",
    "    .agg({\n",
    "    'encounter_id': ['count', 'nunique'],\n",
    "    'patient_nbr': ['count', 'nunique']\n",
    "})"
   ]
  },
  {
   "cell_type": "code",
   "execution_count": 9,
   "metadata": {},
   "outputs": [
    {
     "data": {
      "text/html": [
       "<div>\n",
       "<style scoped>\n",
       "    .dataframe tbody tr th:only-of-type {\n",
       "        vertical-align: middle;\n",
       "    }\n",
       "\n",
       "    .dataframe tbody tr th {\n",
       "        vertical-align: top;\n",
       "    }\n",
       "\n",
       "    .dataframe thead th {\n",
       "        text-align: right;\n",
       "    }\n",
       "</style>\n",
       "<table border=\"1\" class=\"dataframe\">\n",
       "  <thead>\n",
       "    <tr style=\"text-align: right;\">\n",
       "      <th></th>\n",
       "      <th>patient_nbr</th>\n",
       "      <th>n_entries</th>\n",
       "      <th>multiple_obs</th>\n",
       "    </tr>\n",
       "  </thead>\n",
       "  <tbody>\n",
       "    <tr>\n",
       "      <th>54474</th>\n",
       "      <td>88785891</td>\n",
       "      <td>40</td>\n",
       "      <td>1</td>\n",
       "    </tr>\n",
       "    <tr>\n",
       "      <th>32927</th>\n",
       "      <td>43140906</td>\n",
       "      <td>28</td>\n",
       "      <td>1</td>\n",
       "    </tr>\n",
       "    <tr>\n",
       "      <th>3515</th>\n",
       "      <td>1660293</td>\n",
       "      <td>23</td>\n",
       "      <td>1</td>\n",
       "    </tr>\n",
       "    <tr>\n",
       "      <th>17018</th>\n",
       "      <td>23199021</td>\n",
       "      <td>23</td>\n",
       "      <td>1</td>\n",
       "    </tr>\n",
       "    <tr>\n",
       "      <th>54057</th>\n",
       "      <td>88227540</td>\n",
       "      <td>23</td>\n",
       "      <td>1</td>\n",
       "    </tr>\n",
       "  </tbody>\n",
       "</table>\n",
       "</div>"
      ],
      "text/plain": [
       "       patient_nbr  n_entries  multiple_obs\n",
       "54474     88785891         40             1\n",
       "32927     43140906         28             1\n",
       "3515       1660293         23             1\n",
       "17018     23199021         23             1\n",
       "54057     88227540         23             1"
      ]
     },
     "execution_count": 9,
     "metadata": {},
     "output_type": "execute_result"
    }
   ],
   "source": [
    "# The patient with most entries has 40 observations.\n",
    "num_obs = data\\\n",
    "    [['encounter_id', 'patient_nbr']]\\\n",
    "    .groupby('patient_nbr', as_index=False)\\\n",
    "    .count()\\\n",
    "    .rename({'encounter_id': 'n_entries'}, axis='columns')\\\n",
    "    .assign(multiple_obs = lambda r:( r.n_entries >1).astype(int))\n",
    "\n",
    "\n",
    "num_obs\\\n",
    "    .sort_values('n_entries', ascending=False)\\\n",
    "    .head()"
   ]
  },
  {
   "cell_type": "code",
   "execution_count": 10,
   "metadata": {},
   "outputs": [
    {
     "data": {
      "text/html": [
       "<div>\n",
       "<style scoped>\n",
       "    .dataframe tbody tr th:only-of-type {\n",
       "        vertical-align: middle;\n",
       "    }\n",
       "\n",
       "    .dataframe tbody tr th {\n",
       "        vertical-align: top;\n",
       "    }\n",
       "\n",
       "    .dataframe thead th {\n",
       "        text-align: right;\n",
       "    }\n",
       "</style>\n",
       "<table border=\"1\" class=\"dataframe\">\n",
       "  <thead>\n",
       "    <tr style=\"text-align: right;\">\n",
       "      <th></th>\n",
       "      <th>patient_nbr</th>\n",
       "    </tr>\n",
       "    <tr>\n",
       "      <th>multiple_obs</th>\n",
       "      <th></th>\n",
       "    </tr>\n",
       "  </thead>\n",
       "  <tbody>\n",
       "    <tr>\n",
       "      <th>0</th>\n",
       "      <td>54745</td>\n",
       "    </tr>\n",
       "    <tr>\n",
       "      <th>1</th>\n",
       "      <td>16773</td>\n",
       "    </tr>\n",
       "  </tbody>\n",
       "</table>\n",
       "</div>"
      ],
      "text/plain": [
       "              patient_nbr\n",
       "multiple_obs             \n",
       "0                   54745\n",
       "1                   16773"
      ]
     },
     "execution_count": 10,
     "metadata": {},
     "output_type": "execute_result"
    }
   ],
   "source": [
    "num_obs\\\n",
    "    .groupby('multiple_obs')\\\n",
    "    [['patient_nbr']]\\\n",
    "    .count()"
   ]
  },
  {
   "cell_type": "code",
   "execution_count": 11,
   "metadata": {},
   "outputs": [
    {
     "data": {
      "text/html": [
       "<div>\n",
       "<style scoped>\n",
       "    .dataframe tbody tr th:only-of-type {\n",
       "        vertical-align: middle;\n",
       "    }\n",
       "\n",
       "    .dataframe tbody tr th {\n",
       "        vertical-align: top;\n",
       "    }\n",
       "\n",
       "    .dataframe thead th {\n",
       "        text-align: right;\n",
       "    }\n",
       "</style>\n",
       "<table border=\"1\" class=\"dataframe\">\n",
       "  <thead>\n",
       "    <tr style=\"text-align: right;\">\n",
       "      <th></th>\n",
       "      <th>patient_nbr</th>\n",
       "    </tr>\n",
       "    <tr>\n",
       "      <th>multiple_obs</th>\n",
       "      <th></th>\n",
       "    </tr>\n",
       "  </thead>\n",
       "  <tbody>\n",
       "    <tr>\n",
       "      <th>0</th>\n",
       "      <td>0.765472</td>\n",
       "    </tr>\n",
       "    <tr>\n",
       "      <th>1</th>\n",
       "      <td>0.234528</td>\n",
       "    </tr>\n",
       "  </tbody>\n",
       "</table>\n",
       "</div>"
      ],
      "text/plain": [
       "              patient_nbr\n",
       "multiple_obs             \n",
       "0                0.765472\n",
       "1                0.234528"
      ]
     },
     "execution_count": 11,
     "metadata": {},
     "output_type": "execute_result"
    }
   ],
   "source": [
    "num_obs\\\n",
    "    .groupby('multiple_obs')\\\n",
    "    [['patient_nbr']]\\\n",
    "    .count()\\\n",
    "    .div(len(num_obs))"
   ]
  },
  {
   "cell_type": "code",
   "execution_count": 12,
   "metadata": {},
   "outputs": [
    {
     "data": {
      "text/html": [
       "<div>\n",
       "<style scoped>\n",
       "    .dataframe tbody tr th:only-of-type {\n",
       "        vertical-align: middle;\n",
       "    }\n",
       "\n",
       "    .dataframe tbody tr th {\n",
       "        vertical-align: top;\n",
       "    }\n",
       "\n",
       "    .dataframe thead th {\n",
       "        text-align: right;\n",
       "    }\n",
       "</style>\n",
       "<table border=\"1\" class=\"dataframe\">\n",
       "  <thead>\n",
       "    <tr style=\"text-align: right;\">\n",
       "      <th></th>\n",
       "      <th>encounter_id</th>\n",
       "    </tr>\n",
       "    <tr>\n",
       "      <th>readmitted</th>\n",
       "      <th></th>\n",
       "    </tr>\n",
       "  </thead>\n",
       "  <tbody>\n",
       "    <tr>\n",
       "      <th>&lt;30</th>\n",
       "      <td>11357</td>\n",
       "    </tr>\n",
       "    <tr>\n",
       "      <th>&gt;30</th>\n",
       "      <td>35545</td>\n",
       "    </tr>\n",
       "    <tr>\n",
       "      <th>NO</th>\n",
       "      <td>54864</td>\n",
       "    </tr>\n",
       "  </tbody>\n",
       "</table>\n",
       "</div>"
      ],
      "text/plain": [
       "            encounter_id\n",
       "readmitted              \n",
       "<30                11357\n",
       ">30                35545\n",
       "NO                 54864"
      ]
     },
     "execution_count": 12,
     "metadata": {},
     "output_type": "execute_result"
    }
   ],
   "source": [
    "data\\\n",
    "    .groupby('readmitted')\\\n",
    "    [['encounter_id']]\\\n",
    "    .count()"
   ]
  },
  {
   "cell_type": "code",
   "execution_count": 13,
   "metadata": {},
   "outputs": [
    {
     "data": {
      "text/html": [
       "<div>\n",
       "<style scoped>\n",
       "    .dataframe tbody tr th:only-of-type {\n",
       "        vertical-align: middle;\n",
       "    }\n",
       "\n",
       "    .dataframe tbody tr th {\n",
       "        vertical-align: top;\n",
       "    }\n",
       "\n",
       "    .dataframe thead th {\n",
       "        text-align: right;\n",
       "    }\n",
       "</style>\n",
       "<table border=\"1\" class=\"dataframe\">\n",
       "  <thead>\n",
       "    <tr style=\"text-align: right;\">\n",
       "      <th></th>\n",
       "      <th>encounter_id</th>\n",
       "    </tr>\n",
       "    <tr>\n",
       "      <th>readmitted</th>\n",
       "      <th></th>\n",
       "    </tr>\n",
       "  </thead>\n",
       "  <tbody>\n",
       "    <tr>\n",
       "      <th>&lt;30</th>\n",
       "      <td>0.111599</td>\n",
       "    </tr>\n",
       "    <tr>\n",
       "      <th>&gt;30</th>\n",
       "      <td>0.349282</td>\n",
       "    </tr>\n",
       "    <tr>\n",
       "      <th>NO</th>\n",
       "      <td>0.539119</td>\n",
       "    </tr>\n",
       "  </tbody>\n",
       "</table>\n",
       "</div>"
      ],
      "text/plain": [
       "            encounter_id\n",
       "readmitted              \n",
       "<30             0.111599\n",
       ">30             0.349282\n",
       "NO              0.539119"
      ]
     },
     "execution_count": 13,
     "metadata": {},
     "output_type": "execute_result"
    }
   ],
   "source": [
    "data\\\n",
    "    .groupby('readmitted')\\\n",
    "    [['encounter_id']]\\\n",
    "    .count()\\\n",
    "    .div(len(data))"
   ]
  },
  {
   "cell_type": "code",
   "execution_count": 14,
   "metadata": {},
   "outputs": [
    {
     "data": {
      "text/html": [
       "<div>\n",
       "<style scoped>\n",
       "    .dataframe tbody tr th:only-of-type {\n",
       "        vertical-align: middle;\n",
       "    }\n",
       "\n",
       "    .dataframe tbody tr th {\n",
       "        vertical-align: top;\n",
       "    }\n",
       "\n",
       "    .dataframe thead th {\n",
       "        text-align: right;\n",
       "    }\n",
       "</style>\n",
       "<table border=\"1\" class=\"dataframe\">\n",
       "  <thead>\n",
       "    <tr style=\"text-align: right;\">\n",
       "      <th></th>\n",
       "      <th></th>\n",
       "      <th>encounter_id</th>\n",
       "    </tr>\n",
       "    <tr>\n",
       "      <th>readmitted</th>\n",
       "      <th>multiple_obs</th>\n",
       "      <th></th>\n",
       "    </tr>\n",
       "  </thead>\n",
       "  <tbody>\n",
       "    <tr>\n",
       "      <th rowspan=\"2\" valign=\"top\">&lt;30</th>\n",
       "      <th>0</th>\n",
       "      <td>2166</td>\n",
       "    </tr>\n",
       "    <tr>\n",
       "      <th>1</th>\n",
       "      <td>9191</td>\n",
       "    </tr>\n",
       "    <tr>\n",
       "      <th rowspan=\"2\" valign=\"top\">&gt;30</th>\n",
       "      <th>0</th>\n",
       "      <td>9878</td>\n",
       "    </tr>\n",
       "    <tr>\n",
       "      <th>1</th>\n",
       "      <td>25667</td>\n",
       "    </tr>\n",
       "    <tr>\n",
       "      <th rowspan=\"2\" valign=\"top\">NO</th>\n",
       "      <th>0</th>\n",
       "      <td>42701</td>\n",
       "    </tr>\n",
       "    <tr>\n",
       "      <th>1</th>\n",
       "      <td>12163</td>\n",
       "    </tr>\n",
       "  </tbody>\n",
       "</table>\n",
       "</div>"
      ],
      "text/plain": [
       "                         encounter_id\n",
       "readmitted multiple_obs              \n",
       "<30        0                     2166\n",
       "           1                     9191\n",
       ">30        0                     9878\n",
       "           1                    25667\n",
       "NO         0                    42701\n",
       "           1                    12163"
      ]
     },
     "execution_count": 14,
     "metadata": {},
     "output_type": "execute_result"
    }
   ],
   "source": [
    "data\\\n",
    "    .merge(num_obs, on=['patient_nbr'], how='left')\\\n",
    "    .groupby(['readmitted', 'multiple_obs'])\\\n",
    "    [['encounter_id']]\\\n",
    "    .count()"
   ]
  },
  {
   "cell_type": "markdown",
   "metadata": {},
   "source": [
    "The readmitted variable doesn't seem to map very well with if we observe multiple times a patient in our data."
   ]
  },
  {
   "cell_type": "code",
   "execution_count": 15,
   "metadata": {},
   "outputs": [
    {
     "data": {
      "text/plain": [
       "patient_nbr     44\n",
       "encounter_id    44\n",
       "dtype: int64"
      ]
     },
     "execution_count": 15,
     "metadata": {},
     "output_type": "execute_result"
    }
   ],
   "source": [
    "mult_non_readm = data\\\n",
    "    .loc[lambda r: r.readmitted == 'NO']\\\n",
    "    .groupby('patient_nbr', as_index=False)\\\n",
    "    [['encounter_id']]\\\n",
    "    .count()\\\n",
    "    .loc[lambda r: r.encounter_id > 1]\n",
    "\n",
    "mult_non_readm\\\n",
    "    .count()"
   ]
  },
  {
   "cell_type": "markdown",
   "metadata": {},
   "source": [
    "There are 44 cases where we have multiple instances of a patient not being readmitted more than once. This doensn't make sense"
   ]
  },
  {
   "cell_type": "code",
   "execution_count": 16,
   "metadata": {},
   "outputs": [
    {
     "data": {
      "text/html": [
       "<div>\n",
       "<style scoped>\n",
       "    .dataframe tbody tr th:only-of-type {\n",
       "        vertical-align: middle;\n",
       "    }\n",
       "\n",
       "    .dataframe tbody tr th {\n",
       "        vertical-align: top;\n",
       "    }\n",
       "\n",
       "    .dataframe thead th {\n",
       "        text-align: right;\n",
       "    }\n",
       "</style>\n",
       "<table border=\"1\" class=\"dataframe\">\n",
       "  <thead>\n",
       "    <tr style=\"text-align: right;\">\n",
       "      <th></th>\n",
       "      <th>patient_nbr</th>\n",
       "      <th>readmitted</th>\n",
       "    </tr>\n",
       "  </thead>\n",
       "  <tbody>\n",
       "    <tr>\n",
       "      <th>0</th>\n",
       "      <td>23778297</td>\n",
       "      <td>NO</td>\n",
       "    </tr>\n",
       "    <tr>\n",
       "      <th>1</th>\n",
       "      <td>23778297</td>\n",
       "      <td>NO</td>\n",
       "    </tr>\n",
       "    <tr>\n",
       "      <th>2</th>\n",
       "      <td>18627624</td>\n",
       "      <td>NO</td>\n",
       "    </tr>\n",
       "    <tr>\n",
       "      <th>3</th>\n",
       "      <td>18627624</td>\n",
       "      <td>NO</td>\n",
       "    </tr>\n",
       "    <tr>\n",
       "      <th>4</th>\n",
       "      <td>1305612</td>\n",
       "      <td>NO</td>\n",
       "    </tr>\n",
       "  </tbody>\n",
       "</table>\n",
       "</div>"
      ],
      "text/plain": [
       "   patient_nbr readmitted\n",
       "0     23778297         NO\n",
       "1     23778297         NO\n",
       "2     18627624         NO\n",
       "3     18627624         NO\n",
       "4      1305612         NO"
      ]
     },
     "execution_count": 16,
     "metadata": {},
     "output_type": "execute_result"
    }
   ],
   "source": [
    "data\\\n",
    "    .merge(mult_non_readm[['patient_nbr']], on=['patient_nbr'], how='inner')\\\n",
    "    .loc[:, ['patient_nbr', 'readmitted']]\\\n",
    "    .head(5)\n"
   ]
  },
  {
   "cell_type": "code",
   "execution_count": 17,
   "metadata": {},
   "outputs": [
    {
     "data": {
      "text/plain": [
       "12044"
      ]
     },
     "execution_count": 17,
     "metadata": {},
     "output_type": "execute_result"
    }
   ],
   "source": [
    "readmitted_oneobs = data\\\n",
    "    .merge(num_obs, on=['patient_nbr'], how='left')\\\n",
    "    .loc[\n",
    "        lambda r: (r.multiple_obs == 0) & (r.readmitted != 'NO')]\\\n",
    "    .patient_nbr.drop_duplicates()\n",
    "\n",
    "\n",
    "\n",
    "len(readmitted_oneobs)"
   ]
  },
  {
   "cell_type": "markdown",
   "metadata": {},
   "source": [
    "There are also 12k cases where we have register of readmittion but not the observations of this readmittions. This can be caused by exclusion of some hospitalizations if this are shorter than 1 day, or longer than 14. So no data error is assumed in this case"
   ]
  },
  {
   "cell_type": "code",
   "execution_count": 18,
   "metadata": {},
   "outputs": [
    {
     "data": {
      "text/plain": [
       "min     1\n",
       "max    14\n",
       "Name: time_in_hospital, dtype: int64"
      ]
     },
     "execution_count": 18,
     "metadata": {},
     "output_type": "execute_result"
    }
   ],
   "source": [
    "data\\\n",
    "    .time_in_hospital\\\n",
    "    .agg(['min', 'max'])"
   ]
  },
  {
   "cell_type": "markdown",
   "metadata": {},
   "source": [
    "We have availabe codes for different diagnosis groups, it might be a good idea to decode this groups as a feature"
   ]
  },
  {
   "cell_type": "code",
   "execution_count": 19,
   "metadata": {},
   "outputs": [],
   "source": [
    "# change 1\n",
    "# Decoding diagnosis\n",
    "def decode_diag(r, col):\n",
    "    return np.select(\n",
    "        [\n",
    "            ((r[col]>='390') & (r[col]<='459')) | (r[col] == '785'),\n",
    "            ((r[col]>='460') & (r[col]<='519')) | (r[col] == '786'),\n",
    "            ((r[col]>='520') & (r[col]<='579')) | (r[col] == '787'),\n",
    "            ((r[col]>='580') & (r[col]<='629')) | (r[col] == '788'),\n",
    "            ((r[col]>='680') & (r[col]<='709')) | (r[col] == '782'),\n",
    "            (r[col]>='800') & (r[col]<='999'),\n",
    "            (r[col]>='710') & (r[col]<='739'),\n",
    "            (r[col]>='250') & (r[col]<'251'),\n",
    "            (r[col]>='140') & (r[col]<'239'),\n",
    "            (r[col]>='240') & (r[col]<'279'),\n",
    "            r[col].isnull()\n",
    "        ],\n",
    "        [\n",
    "            'Circulatory',\n",
    "            'Respiratory',\n",
    "            'Digestive',\n",
    "            'Genitourinaty',\n",
    "            'Skin',\n",
    "            'Injury',\n",
    "            'Musculoskeleteal',\n",
    "            'Diabetes',\n",
    "            'Noeplasms',\n",
    "            'Metabolic',\n",
    "            np.nan\n",
    "        ],\n",
    "        'Other')\n",
    "\n",
    "data = data\\\n",
    "    .assign(\n",
    "    diag_group_1 = lambda r: decode_diag(r, 'diag_1'),    \n",
    "    diag_group_2 = lambda r: decode_diag(r, 'diag_2'),\n",
    "    diag_group_3 = lambda r: decode_diag(r, 'diag_3'))\n",
    "\n"
   ]
  },
  {
   "cell_type": "code",
   "execution_count": 20,
   "metadata": {},
   "outputs": [],
   "source": [
    "# Change 2\n",
    "# Binary deffinition of readmission\n",
    "\n",
    "data = data.assign(readmission = lambda r: (r.readmitted == '<30').astype(int))"
   ]
  },
  {
   "cell_type": "code",
   "execution_count": 21,
   "metadata": {},
   "outputs": [],
   "source": [
    "diag_groups = [\n",
    "    'Circulatory', 'Respiratory', 'Digestive', 'Genitourinaty', 'Skin',\n",
    "    'Injury', 'Musculoskeleteal', 'Diabetes', 'Noeplasms', 'Metabolic',\n",
    "    'Other']"
   ]
  },
  {
   "cell_type": "code",
   "execution_count": 22,
   "metadata": {},
   "outputs": [],
   "source": [
    "# Change 3\n",
    "# One hot encoding for diagnosis groups\n",
    "for diag in diag_groups:\n",
    "    data[diag] = ((data['diag_group_1'] == diag) | (data['diag_group_2'] == diag) | (data['diag_group_3'] == diag)).astype(int)"
   ]
  },
  {
   "cell_type": "markdown",
   "metadata": {},
   "source": [
    "### Identifying column types"
   ]
  },
  {
   "cell_type": "code",
   "execution_count": 23,
   "metadata": {},
   "outputs": [
    {
     "data": {
      "text/plain": [
       "{'int32': Index(['readmission', 'Circulatory', 'Respiratory', 'Digestive',\n",
       "        'Genitourinaty', 'Skin', 'Injury', 'Musculoskeleteal', 'Diabetes',\n",
       "        'Noeplasms', 'Metabolic', 'Other'],\n",
       "       dtype='object'),\n",
       " 'int64': Index(['encounter_id', 'patient_nbr', 'admission_type_id',\n",
       "        'discharge_disposition_id', 'admission_source_id', 'time_in_hospital',\n",
       "        'num_lab_procedures', 'num_procedures', 'num_medications',\n",
       "        'number_outpatient', 'number_emergency', 'number_inpatient',\n",
       "        'number_diagnoses'],\n",
       "       dtype='object'),\n",
       " 'object': Index(['race', 'gender', 'age', 'weight', 'payer_code', 'medical_specialty',\n",
       "        'diag_1', 'diag_2', 'diag_3', 'max_glu_serum', 'A1Cresult', 'metformin',\n",
       "        'repaglinide', 'nateglinide', 'chlorpropamide', 'glimepiride',\n",
       "        'acetohexamide', 'glipizide', 'glyburide', 'tolbutamide',\n",
       "        'pioglitazone', 'rosiglitazone', 'acarbose', 'miglitol', 'troglitazone',\n",
       "        'tolazamide', 'examide', 'citoglipton', 'insulin',\n",
       "        'glyburide-metformin', 'glipizide-metformin',\n",
       "        'glimepiride-pioglitazone', 'metformin-rosiglitazone',\n",
       "        'metformin-pioglitazone', 'change', 'diabetesMed', 'readmitted',\n",
       "        'diag_group_1', 'diag_group_2', 'diag_group_3'],\n",
       "       dtype='object')}"
      ]
     },
     "execution_count": 23,
     "metadata": {},
     "output_type": "execute_result"
    }
   ],
   "source": [
    "g = data.columns.to_series().groupby(data.dtypes).groups\n",
    "column_types = {k.name: v for k, v in g.items()}\n",
    "column_types"
   ]
  },
  {
   "cell_type": "code",
   "execution_count": 24,
   "metadata": {},
   "outputs": [],
   "source": [
    "id_cols = ['encounter_id', 'patient_nbr']\n",
    "nominal_categorical = [\n",
    "    # See id_mapping.csv for a dictionary on this variables\n",
    "    'admission_type_id', 'discharge_disposition_id', 'admission_source_id', \n",
    "    # Patient general info\n",
    "    'race', 'gender', \n",
    "    # Hospitalization info\n",
    "    'payer_code', 'medical_specialty',\n",
    "    # Diagnosis codes\n",
    "    'diag_1', 'diag_2', 'diag_3', 'diag_group_1', 'diag_group_2', 'diag_group_3',\n",
    "    # Diagnosis groups\n",
    "    *diag_groups,\n",
    "    # medications\n",
    "    # medication general info\n",
    "    'change', 'diabetesMed',\n",
    "    # Specific medications\n",
    "    'metformin', 'repaglinide', 'nateglinide',\n",
    "    'chlorpropamide', 'glimepiride', 'acetohexamide', 'glipizide',\n",
    "    'glyburide', 'tolbutamide', 'pioglitazone', 'rosiglitazone', 'acarbose',\n",
    "    'miglitol', 'troglitazone', 'tolazamide', 'examide', 'citoglipton',\n",
    "    'insulin', 'glyburide-metformin', 'glipizide-metformin',\n",
    "    'glimepiride-pioglitazone', 'metformin-rosiglitazone',\n",
    "    'metformin-pioglitazone'\n",
    "]\n",
    "ordinal_categorical = [\n",
    "    # Patient general info\n",
    "    'age', 'weight',\n",
    "    # Test results\n",
    "    'max_glu_serum', 'A1Cresult'\n",
    "\n",
    "]\n",
    "numerical = [\n",
    "    'time_in_hospital', 'num_lab_procedures', 'num_procedures', \n",
    "    'num_medications', 'number_outpatient', 'number_emergency', \n",
    "    'number_inpatient', 'number_diagnoses']\n",
    "\n",
    "target =[ 'readmitted', 'readmission']\n",
    "\n",
    "cols = [\n",
    "    *id_cols, *nominal_categorical, *ordinal_categorical, *numerical, *target]\n",
    "\n"
   ]
  },
  {
   "cell_type": "markdown",
   "metadata": {},
   "source": [
    "### Categorical variables"
   ]
  },
  {
   "cell_type": "markdown",
   "metadata": {},
   "source": [
    "Lets print the 3 most common categories for each variable"
   ]
  },
  {
   "cell_type": "code",
   "execution_count": 25,
   "metadata": {},
   "outputs": [
    {
     "data": {
      "text/plain": [
       "1    53.1%\n",
       "3    18.5%\n",
       "2    18.2%\n",
       "Name: admission_type_id, dtype: object"
      ]
     },
     "execution_count": 25,
     "metadata": {},
     "output_type": "execute_result"
    },
    {
     "data": {
      "text/plain": [
       "1    59.2%\n",
       "3    13.7%\n",
       "6    12.7%\n",
       "Name: discharge_disposition_id, dtype: object"
      ]
     },
     "execution_count": 25,
     "metadata": {},
     "output_type": "execute_result"
    },
    {
     "data": {
      "text/plain": [
       "7     56.5%\n",
       "1     29.1%\n",
       "17     6.7%\n",
       "Name: admission_source_id, dtype: object"
      ]
     },
     "execution_count": 25,
     "metadata": {},
     "output_type": "execute_result"
    },
    {
     "data": {
      "text/plain": [
       "Caucasian          74.8%\n",
       "AfricanAmerican    18.9%\n",
       "?                   2.2%\n",
       "Name: race, dtype: object"
      ]
     },
     "execution_count": 25,
     "metadata": {},
     "output_type": "execute_result"
    },
    {
     "data": {
      "text/plain": [
       "Female             53.8%\n",
       "Male               46.2%\n",
       "Unknown/Invalid     0.0%\n",
       "Name: gender, dtype: object"
      ]
     },
     "execution_count": 25,
     "metadata": {},
     "output_type": "execute_result"
    },
    {
     "data": {
      "text/plain": [
       "?     39.6%\n",
       "MC    31.9%\n",
       "HM     6.2%\n",
       "Name: payer_code, dtype: object"
      ]
     },
     "execution_count": 25,
     "metadata": {},
     "output_type": "execute_result"
    },
    {
     "data": {
      "text/plain": [
       "?                   49.1%\n",
       "InternalMedicine    14.4%\n",
       "Emergency/Trauma     7.4%\n",
       "Name: medical_specialty, dtype: object"
      ]
     },
     "execution_count": 25,
     "metadata": {},
     "output_type": "execute_result"
    },
    {
     "data": {
      "text/plain": [
       "428    6.7%\n",
       "414    6.5%\n",
       "786    3.9%\n",
       "Name: diag_1, dtype: object"
      ]
     },
     "execution_count": 25,
     "metadata": {},
     "output_type": "execute_result"
    },
    {
     "data": {
      "text/plain": [
       "276    6.6%\n",
       "428    6.5%\n",
       "250    6.0%\n",
       "Name: diag_2, dtype: object"
      ]
     },
     "execution_count": 25,
     "metadata": {},
     "output_type": "execute_result"
    },
    {
     "data": {
      "text/plain": [
       "250    11.4%\n",
       "401     8.1%\n",
       "276     5.1%\n",
       "Name: diag_3, dtype: object"
      ]
     },
     "execution_count": 25,
     "metadata": {},
     "output_type": "execute_result"
    },
    {
     "data": {
      "text/plain": [
       "Circulatory    30.0%\n",
       "Respiratory    14.2%\n",
       "Other          12.4%\n",
       "Name: diag_group_1, dtype: object"
      ]
     },
     "execution_count": 25,
     "metadata": {},
     "output_type": "execute_result"
    },
    {
     "data": {
      "text/plain": [
       "Circulatory    31.8%\n",
       "Other          14.0%\n",
       "Diabetes       12.6%\n",
       "Name: diag_group_2, dtype: object"
      ]
     },
     "execution_count": 25,
     "metadata": {},
     "output_type": "execute_result"
    },
    {
     "data": {
      "text/plain": [
       "Circulatory    30.5%\n",
       "Other          17.5%\n",
       "Diabetes       16.9%\n",
       "Name: diag_group_3, dtype: object"
      ]
     },
     "execution_count": 25,
     "metadata": {},
     "output_type": "execute_result"
    },
    {
     "data": {
      "text/plain": [
       "1    59.3%\n",
       "0    40.7%\n",
       "Name: Circulatory, dtype: object"
      ]
     },
     "execution_count": 25,
     "metadata": {},
     "output_type": "execute_result"
    },
    {
     "data": {
      "text/plain": [
       "0    73.6%\n",
       "1    26.4%\n",
       "Name: Respiratory, dtype: object"
      ]
     },
     "execution_count": 25,
     "metadata": {},
     "output_type": "execute_result"
    },
    {
     "data": {
      "text/plain": [
       "0    85.8%\n",
       "1    14.2%\n",
       "Name: Digestive, dtype: object"
      ]
     },
     "execution_count": 25,
     "metadata": {},
     "output_type": "execute_result"
    },
    {
     "data": {
      "text/plain": [
       "0    82.5%\n",
       "1    17.5%\n",
       "Name: Genitourinaty, dtype: object"
      ]
     },
     "execution_count": 25,
     "metadata": {},
     "output_type": "execute_result"
    },
    {
     "data": {
      "text/plain": [
       "0    92.0%\n",
       "1     8.0%\n",
       "Name: Skin, dtype: object"
      ]
     },
     "execution_count": 25,
     "metadata": {},
     "output_type": "execute_result"
    },
    {
     "data": {
      "text/plain": [
       "0    90.1%\n",
       "1     9.9%\n",
       "Name: Injury, dtype: object"
      ]
     },
     "execution_count": 25,
     "metadata": {},
     "output_type": "execute_result"
    },
    {
     "data": {
      "text/plain": [
       "0    92.6%\n",
       "1     7.4%\n",
       "Name: Musculoskeleteal, dtype: object"
      ]
     },
     "execution_count": 25,
     "metadata": {},
     "output_type": "execute_result"
    },
    {
     "data": {
      "text/plain": [
       "0    62.6%\n",
       "1    37.4%\n",
       "Name: Diabetes, dtype: object"
      ]
     },
     "execution_count": 25,
     "metadata": {},
     "output_type": "execute_result"
    },
    {
     "data": {
      "text/plain": [
       "0    94.1%\n",
       "1     5.9%\n",
       "Name: Noeplasms, dtype: object"
      ]
     },
     "execution_count": 25,
     "metadata": {},
     "output_type": "execute_result"
    },
    {
     "data": {
      "text/plain": [
       "0    81.7%\n",
       "1    18.3%\n",
       "Name: Metabolic, dtype: object"
      ]
     },
     "execution_count": 25,
     "metadata": {},
     "output_type": "execute_result"
    },
    {
     "data": {
      "text/plain": [
       "0    64.7%\n",
       "1    35.3%\n",
       "Name: Other, dtype: object"
      ]
     },
     "execution_count": 25,
     "metadata": {},
     "output_type": "execute_result"
    },
    {
     "data": {
      "text/plain": [
       "No    53.8%\n",
       "Ch    46.2%\n",
       "Name: change, dtype: object"
      ]
     },
     "execution_count": 25,
     "metadata": {},
     "output_type": "execute_result"
    },
    {
     "data": {
      "text/plain": [
       "Yes    77.0%\n",
       "No     23.0%\n",
       "Name: diabetesMed, dtype: object"
      ]
     },
     "execution_count": 25,
     "metadata": {},
     "output_type": "execute_result"
    },
    {
     "data": {
      "text/plain": [
       "No        80.4%\n",
       "Steady    18.0%\n",
       "Up         1.0%\n",
       "Name: metformin, dtype: object"
      ]
     },
     "execution_count": 25,
     "metadata": {},
     "output_type": "execute_result"
    },
    {
     "data": {
      "text/plain": [
       "No        98.5%\n",
       "Steady     1.4%\n",
       "Up         0.1%\n",
       "Name: repaglinide, dtype: object"
      ]
     },
     "execution_count": 25,
     "metadata": {},
     "output_type": "execute_result"
    },
    {
     "data": {
      "text/plain": [
       "No        99.3%\n",
       "Steady     0.7%\n",
       "Up         0.0%\n",
       "Name: nateglinide, dtype: object"
      ]
     },
     "execution_count": 25,
     "metadata": {},
     "output_type": "execute_result"
    },
    {
     "data": {
      "text/plain": [
       "No        99.9%\n",
       "Steady     0.1%\n",
       "Up         0.0%\n",
       "Name: chlorpropamide, dtype: object"
      ]
     },
     "execution_count": 25,
     "metadata": {},
     "output_type": "execute_result"
    },
    {
     "data": {
      "text/plain": [
       "No        94.9%\n",
       "Steady     4.6%\n",
       "Up         0.3%\n",
       "Name: glimepiride, dtype: object"
      ]
     },
     "execution_count": 25,
     "metadata": {},
     "output_type": "execute_result"
    },
    {
     "data": {
      "text/plain": [
       "No        100.0%\n",
       "Steady      0.0%\n",
       "Name: acetohexamide, dtype: object"
      ]
     },
     "execution_count": 25,
     "metadata": {},
     "output_type": "execute_result"
    },
    {
     "data": {
      "text/plain": [
       "No        87.5%\n",
       "Steady    11.2%\n",
       "Up         0.8%\n",
       "Name: glipizide, dtype: object"
      ]
     },
     "execution_count": 25,
     "metadata": {},
     "output_type": "execute_result"
    },
    {
     "data": {
      "text/plain": [
       "No        89.5%\n",
       "Steady     9.1%\n",
       "Up         0.8%\n",
       "Name: glyburide, dtype: object"
      ]
     },
     "execution_count": 25,
     "metadata": {},
     "output_type": "execute_result"
    },
    {
     "data": {
      "text/plain": [
       "No        100.0%\n",
       "Steady      0.0%\n",
       "Name: tolbutamide, dtype: object"
      ]
     },
     "execution_count": 25,
     "metadata": {},
     "output_type": "execute_result"
    },
    {
     "data": {
      "text/plain": [
       "No        92.8%\n",
       "Steady     6.9%\n",
       "Up         0.2%\n",
       "Name: pioglitazone, dtype: object"
      ]
     },
     "execution_count": 25,
     "metadata": {},
     "output_type": "execute_result"
    },
    {
     "data": {
      "text/plain": [
       "No        93.7%\n",
       "Steady     6.0%\n",
       "Up         0.2%\n",
       "Name: rosiglitazone, dtype: object"
      ]
     },
     "execution_count": 25,
     "metadata": {},
     "output_type": "execute_result"
    },
    {
     "data": {
      "text/plain": [
       "No        99.7%\n",
       "Steady     0.3%\n",
       "Up         0.0%\n",
       "Name: acarbose, dtype: object"
      ]
     },
     "execution_count": 25,
     "metadata": {},
     "output_type": "execute_result"
    },
    {
     "data": {
      "text/plain": [
       "No        100.0%\n",
       "Steady      0.0%\n",
       "Down        0.0%\n",
       "Name: miglitol, dtype: object"
      ]
     },
     "execution_count": 25,
     "metadata": {},
     "output_type": "execute_result"
    },
    {
     "data": {
      "text/plain": [
       "No        100.0%\n",
       "Steady      0.0%\n",
       "Name: troglitazone, dtype: object"
      ]
     },
     "execution_count": 25,
     "metadata": {},
     "output_type": "execute_result"
    },
    {
     "data": {
      "text/plain": [
       "No        100.0%\n",
       "Steady      0.0%\n",
       "Up          0.0%\n",
       "Name: tolazamide, dtype: object"
      ]
     },
     "execution_count": 25,
     "metadata": {},
     "output_type": "execute_result"
    },
    {
     "data": {
      "text/plain": [
       "No    100.0%\n",
       "Name: examide, dtype: object"
      ]
     },
     "execution_count": 25,
     "metadata": {},
     "output_type": "execute_result"
    },
    {
     "data": {
      "text/plain": [
       "No    100.0%\n",
       "Name: citoglipton, dtype: object"
      ]
     },
     "execution_count": 25,
     "metadata": {},
     "output_type": "execute_result"
    },
    {
     "data": {
      "text/plain": [
       "No        46.6%\n",
       "Steady    30.3%\n",
       "Down      12.0%\n",
       "Name: insulin, dtype: object"
      ]
     },
     "execution_count": 25,
     "metadata": {},
     "output_type": "execute_result"
    },
    {
     "data": {
      "text/plain": [
       "No        99.3%\n",
       "Steady     0.7%\n",
       "Up         0.0%\n",
       "Name: glyburide-metformin, dtype: object"
      ]
     },
     "execution_count": 25,
     "metadata": {},
     "output_type": "execute_result"
    },
    {
     "data": {
      "text/plain": [
       "No        100.0%\n",
       "Steady      0.0%\n",
       "Name: glipizide-metformin, dtype: object"
      ]
     },
     "execution_count": 25,
     "metadata": {},
     "output_type": "execute_result"
    },
    {
     "data": {
      "text/plain": [
       "No        100.0%\n",
       "Steady      0.0%\n",
       "Name: glimepiride-pioglitazone, dtype: object"
      ]
     },
     "execution_count": 25,
     "metadata": {},
     "output_type": "execute_result"
    },
    {
     "data": {
      "text/plain": [
       "No        100.0%\n",
       "Steady      0.0%\n",
       "Name: metformin-rosiglitazone, dtype: object"
      ]
     },
     "execution_count": 25,
     "metadata": {},
     "output_type": "execute_result"
    },
    {
     "data": {
      "text/plain": [
       "No        100.0%\n",
       "Steady      0.0%\n",
       "Name: metformin-pioglitazone, dtype: object"
      ]
     },
     "execution_count": 25,
     "metadata": {},
     "output_type": "execute_result"
    }
   ],
   "source": [
    "for var in nominal_categorical:\n",
    "    data[var].value_counts(dropna=False)\\\n",
    "    .div(len(data)).mul(100).round(1).astype(str).add('%')[:3]"
   ]
  },
  {
   "cell_type": "code",
   "execution_count": 26,
   "metadata": {},
   "outputs": [
    {
     "data": {
      "text/plain": [
       "[70-80)    25.6%\n",
       "[60-70)    22.1%\n",
       "[50-60)    17.0%\n",
       "[80-90)    16.9%\n",
       "[40-50)     9.5%\n",
       "Name: age, dtype: object"
      ]
     },
     "execution_count": 26,
     "metadata": {},
     "output_type": "execute_result"
    },
    {
     "data": {
      "text/plain": [
       "?            96.9%\n",
       "[75-100)      1.3%\n",
       "[50-75)       0.9%\n",
       "[100-125)     0.6%\n",
       "[125-150)     0.1%\n",
       "Name: weight, dtype: object"
      ]
     },
     "execution_count": 26,
     "metadata": {},
     "output_type": "execute_result"
    },
    {
     "data": {
      "text/plain": [
       "None    94.7%\n",
       "Norm     2.6%\n",
       ">200     1.5%\n",
       ">300     1.2%\n",
       "Name: max_glu_serum, dtype: object"
      ]
     },
     "execution_count": 26,
     "metadata": {},
     "output_type": "execute_result"
    },
    {
     "data": {
      "text/plain": [
       "None    83.3%\n",
       ">8       8.1%\n",
       "Norm     4.9%\n",
       ">7       3.7%\n",
       "Name: A1Cresult, dtype: object"
      ]
     },
     "execution_count": 26,
     "metadata": {},
     "output_type": "execute_result"
    }
   ],
   "source": [
    "for var in ordinal_categorical:\n",
    "    data[var].value_counts(dropna=False)\\\n",
    "    .div(len(data)).mul(100).round(1).astype(str).add('%')[:5]"
   ]
  },
  {
   "cell_type": "markdown",
   "metadata": {},
   "source": [
    "The following variables might not be very informative because their most common category has above 99% incidence"
   ]
  },
  {
   "cell_type": "code",
   "execution_count": 27,
   "metadata": {},
   "outputs": [
    {
     "name": "stdout",
     "output_type": "stream",
     "text": [
      "nateglinide\n",
      "chlorpropamide\n",
      "acetohexamide\n",
      "tolbutamide\n",
      "acarbose\n",
      "miglitol\n",
      "troglitazone\n",
      "tolazamide\n",
      "examide\n",
      "citoglipton\n",
      "glyburide-metformin\n",
      "glipizide-metformin\n",
      "glimepiride-pioglitazone\n",
      "metformin-rosiglitazone\n",
      "metformin-pioglitazone\n"
     ]
    }
   ],
   "source": [
    "homogeneous_vars = []\n",
    "for var in [*ordinal_categorical, *nominal_categorical]:\n",
    "    if data[var].value_counts(dropna=False).div(len(data)).iloc[0] > .99:\n",
    "        print(var)\n",
    "        homogeneous_vars.append(var)"
   ]
  },
  {
   "cell_type": "markdown",
   "metadata": {},
   "source": [
    "All of them are specific medicine variables. This are medicines that are rare/"
   ]
  },
  {
   "cell_type": "code",
   "execution_count": 28,
   "metadata": {},
   "outputs": [
    {
     "data": {
      "text/plain": [
       "Yes    1910\n",
       "Name: diabetesMed, dtype: int64"
      ]
     },
     "execution_count": 28,
     "metadata": {},
     "output_type": "execute_result"
    }
   ],
   "source": [
    "data\\\n",
    "    [('No' != data[homogeneous_vars]).sum(axis=1).astype(bool)]\\\n",
    "    ['diabetesMed']\\\n",
    "    .value_counts()"
   ]
  },
  {
   "cell_type": "markdown",
   "metadata": {},
   "source": [
    "And as expected, all cases where this medicines are present, this is registered on the diabetesMed column"
   ]
  },
  {
   "cell_type": "markdown",
   "metadata": {},
   "source": [
    "#### Information on each categorical variable"
   ]
  },
  {
   "cell_type": "code",
   "execution_count": 29,
   "metadata": {},
   "outputs": [],
   "source": [
    "from scipy.stats import entropy"
   ]
  },
  {
   "cell_type": "code",
   "execution_count": 30,
   "metadata": {},
   "outputs": [],
   "source": [
    "chance_of_readmission = data\\\n",
    "    ['readmission']\\\n",
    "    .mean()\n",
    "qk = [chance_of_readmission, 1-chance_of_readmission]"
   ]
  },
  {
   "cell_type": "code",
   "execution_count": 31,
   "metadata": {},
   "outputs": [
    {
     "data": {
      "image/png": "[encoded data removed]",
      "text/plain": [
       "<Figure size 1584x1584 with 16 Axes>"
      ]
     },
     "metadata": {
      "needs_background": "light"
     },
     "output_type": "display_data"
    }
   ],
   "source": [
    "entropies = {}\n",
    "important_groups = {}\n",
    "\n",
    "f, axs = plt.subplots(4, 4)\n",
    "j = 0\n",
    "f.set_figheight(22)\n",
    "f.set_figwidth(22)\n",
    "\n",
    "for var in [*ordinal_categorical, *nominal_categorical]: \n",
    "    a = data\\\n",
    "            [[var, 'readmission']]\\\n",
    "            .groupby(var, dropna=False)\\\n",
    "            .agg([('pct_readmitted', 'mean'), ('pct_cases', 'count')])\\\n",
    "            .droplevel(level=0, axis=1)\\\n",
    "            .assign(\n",
    "                pct_cases = lambda r: r.pct_cases / len(data))\n",
    "\n",
    "    kl_div = []\n",
    "    for i in a.index:\n",
    "        kl_div.append(\n",
    "            entropy([a.loc[i, 'pct_readmitted'], 1-a.loc[i, 'pct_readmitted']], qk))\n",
    "\n",
    "    a['kl_div'] = kl_div\n",
    "    a = a\\\n",
    "            .assign(kl_div = lambda r: r.kl_div * r.pct_cases)\n",
    "    entropy_var = a\\\n",
    "            .kl_div.sum()\n",
    "    entropies[var] = entropy_var\n",
    "    vizdata = a.reset_index().sort_values('kl_div', ascending=False).head(6).fillna('NA')\n",
    "\n",
    "    if vizdata.kl_div.sum() > 0.00016:\n",
    "        x = vizdata[var].astype(str).str[:7]\n",
    "        y = vizdata['pct_readmitted']\n",
    "        ax = axs[j//4, j % 4]\n",
    "        bar = ax.bar(x, y)\n",
    "        title = ax.set_title(var)\n",
    "        ylabel = ax.set_ylabel('% of readmissions')\n",
    "        xlabel = ax.set_xlabel('group')\n",
    "        hline = ax.hlines(chance_of_readmission, len(vizdata)-.5, -.5, linestyles='dashed')\n",
    "        if 'diag' not in var:\n",
    "            important_groups[var] = vizdata[var].to_list()\n",
    "        if y.max() < .26:\n",
    "            ylim=ax.set_ylim(0, 0.26)\n",
    "        j+=1\n",
    "\n",
    "suptitle = f.suptitle(\"Most informative categories\", y = 1.02, size = 'xx-large')\n",
    "f.tight_layout()\n",
    "plt.show()"
   ]
  },
  {
   "cell_type": "code",
   "execution_count": 32,
   "metadata": {},
   "outputs": [
    {
     "data": {
      "text/html": [
       "<div>\n",
       "<style scoped>\n",
       "    .dataframe tbody tr th:only-of-type {\n",
       "        vertical-align: middle;\n",
       "    }\n",
       "\n",
       "    .dataframe tbody tr th {\n",
       "        vertical-align: top;\n",
       "    }\n",
       "\n",
       "    .dataframe thead th {\n",
       "        text-align: right;\n",
       "    }\n",
       "</style>\n",
       "<table border=\"1\" class=\"dataframe\">\n",
       "  <thead>\n",
       "    <tr style=\"text-align: right;\">\n",
       "      <th></th>\n",
       "      <th>K-L divergnece</th>\n",
       "    </tr>\n",
       "  </thead>\n",
       "  <tbody>\n",
       "    <tr>\n",
       "      <th>diag_1</th>\n",
       "      <td>0.85%</td>\n",
       "    </tr>\n",
       "    <tr>\n",
       "      <th>diag_3</th>\n",
       "      <td>0.76%</td>\n",
       "    </tr>\n",
       "    <tr>\n",
       "      <th>discharge_disposition_id</th>\n",
       "      <td>0.76%</td>\n",
       "    </tr>\n",
       "    <tr>\n",
       "      <th>diag_2</th>\n",
       "      <td>0.71%</td>\n",
       "    </tr>\n",
       "    <tr>\n",
       "      <th>medical_specialty</th>\n",
       "      <td>0.18%</td>\n",
       "    </tr>\n",
       "    <tr>\n",
       "      <th>insulin</th>\n",
       "      <td>0.09%</td>\n",
       "    </tr>\n",
       "    <tr>\n",
       "      <th>age</th>\n",
       "      <td>0.06%</td>\n",
       "    </tr>\n",
       "    <tr>\n",
       "      <th>payer_code</th>\n",
       "      <td>0.05%</td>\n",
       "    </tr>\n",
       "    <tr>\n",
       "      <th>diag_group_1</th>\n",
       "      <td>0.05%</td>\n",
       "    </tr>\n",
       "    <tr>\n",
       "      <th>diag_group_3</th>\n",
       "      <td>0.05%</td>\n",
       "    </tr>\n",
       "    <tr>\n",
       "      <th>diabetesMed</th>\n",
       "      <td>0.04%</td>\n",
       "    </tr>\n",
       "    <tr>\n",
       "      <th>diag_group_2</th>\n",
       "      <td>0.03%</td>\n",
       "    </tr>\n",
       "    <tr>\n",
       "      <th>metformin</th>\n",
       "      <td>0.03%</td>\n",
       "    </tr>\n",
       "    <tr>\n",
       "      <th>admission_source_id</th>\n",
       "      <td>0.03%</td>\n",
       "    </tr>\n",
       "    <tr>\n",
       "      <th>change</th>\n",
       "      <td>0.02%</td>\n",
       "    </tr>\n",
       "    <tr>\n",
       "      <th>A1Cresult</th>\n",
       "      <td>0.02%</td>\n",
       "    </tr>\n",
       "  </tbody>\n",
       "</table>\n",
       "</div>"
      ],
      "text/plain": [
       "                         K-L divergnece\n",
       "diag_1                            0.85%\n",
       "diag_3                            0.76%\n",
       "discharge_disposition_id          0.76%\n",
       "diag_2                            0.71%\n",
       "medical_specialty                 0.18%\n",
       "insulin                           0.09%\n",
       "age                               0.06%\n",
       "payer_code                        0.05%\n",
       "diag_group_1                      0.05%\n",
       "diag_group_3                      0.05%\n",
       "diabetesMed                       0.04%\n",
       "diag_group_2                      0.03%\n",
       "metformin                         0.03%\n",
       "admission_source_id               0.03%\n",
       "change                            0.02%\n",
       "A1Cresult                         0.02%"
      ]
     },
     "execution_count": 32,
     "metadata": {},
     "output_type": "execute_result"
    }
   ],
   "source": [
    "# Variables sorted by class-weighted average Kullback–Leibler divergence\n",
    "most_infoirmative_vars = pd.DataFrame(\n",
    "    pd.Series(entropies).sort_values(ascending=False), \n",
    "    columns=['K-L divergnece'])\n",
    "most_infoirmative_vars.head(16).mul(100).round(2).astype(str).add('%')"
   ]
  },
  {
   "cell_type": "code",
   "execution_count": 33,
   "metadata": {},
   "outputs": [
    {
     "data": {
      "text/html": [
       "<div>\n",
       "<style scoped>\n",
       "    .dataframe tbody tr th:only-of-type {\n",
       "        vertical-align: middle;\n",
       "    }\n",
       "\n",
       "    .dataframe tbody tr th {\n",
       "        vertical-align: top;\n",
       "    }\n",
       "\n",
       "    .dataframe thead th {\n",
       "        text-align: right;\n",
       "    }\n",
       "</style>\n",
       "<table border=\"1\" class=\"dataframe\">\n",
       "  <thead>\n",
       "    <tr style=\"text-align: right;\">\n",
       "      <th></th>\n",
       "      <th>K-L divergnece</th>\n",
       "    </tr>\n",
       "  </thead>\n",
       "  <tbody>\n",
       "    <tr>\n",
       "      <th>Genitourinaty</th>\n",
       "      <td>0.011%</td>\n",
       "    </tr>\n",
       "    <tr>\n",
       "      <th>Skin</th>\n",
       "      <td>0.008%</td>\n",
       "    </tr>\n",
       "    <tr>\n",
       "      <th>Musculoskeleteal</th>\n",
       "      <td>0.006%</td>\n",
       "    </tr>\n",
       "    <tr>\n",
       "      <th>Respiratory</th>\n",
       "      <td>0.005%</td>\n",
       "    </tr>\n",
       "    <tr>\n",
       "      <th>Noeplasms</th>\n",
       "      <td>0.004%</td>\n",
       "    </tr>\n",
       "    <tr>\n",
       "      <th>Injury</th>\n",
       "      <td>0.004%</td>\n",
       "    </tr>\n",
       "    <tr>\n",
       "      <th>Diabetes</th>\n",
       "      <td>0.001%</td>\n",
       "    </tr>\n",
       "    <tr>\n",
       "      <th>Metabolic</th>\n",
       "      <td>0.001%</td>\n",
       "    </tr>\n",
       "    <tr>\n",
       "      <th>Circulatory</th>\n",
       "      <td>0.0%</td>\n",
       "    </tr>\n",
       "    <tr>\n",
       "      <th>Digestive</th>\n",
       "      <td>0.0%</td>\n",
       "    </tr>\n",
       "    <tr>\n",
       "      <th>Other</th>\n",
       "      <td>0.0%</td>\n",
       "    </tr>\n",
       "  </tbody>\n",
       "</table>\n",
       "</div>"
      ],
      "text/plain": [
       "                 K-L divergnece\n",
       "Genitourinaty            0.011%\n",
       "Skin                     0.008%\n",
       "Musculoskeleteal         0.006%\n",
       "Respiratory              0.005%\n",
       "Noeplasms                0.004%\n",
       "Injury                   0.004%\n",
       "Diabetes                 0.001%\n",
       "Metabolic                0.001%\n",
       "Circulatory                0.0%\n",
       "Digestive                  0.0%\n",
       "Other                      0.0%"
      ]
     },
     "execution_count": 33,
     "metadata": {},
     "output_type": "execute_result"
    }
   ],
   "source": [
    "important_diag_groups = most_infoirmative_vars\\\n",
    "    .loc[diag_groups]\\\n",
    "    .sort_values('K-L divergnece', ascending=False)\\\n",
    "    .mul(100).round(3).astype(str).add('%')\n",
    "important_diag_groups"
   ]
  },
  {
   "cell_type": "code",
   "execution_count": 34,
   "metadata": {},
   "outputs": [],
   "source": [
    "# Reducing categories to only the most important ones\n",
    "for cat in important_groups:\n",
    "    data[cat] = np.where(\n",
    "        data[cat].isin(important_groups[cat]),\n",
    "        data[cat], 'OTHER')"
   ]
  },
  {
   "cell_type": "code",
   "execution_count": 35,
   "metadata": {},
   "outputs": [],
   "source": [
    "selected_categorical = list(important_groups.keys()) + important_diag_groups.head(7).index.to_list()\n",
    "# selected_categorical_onehot = [l for l in one_hot_df.columns.to_list() if '_no' not in l.lower()] + important_diag_groups.head(7).index.to_list()"
   ]
  },
  {
   "cell_type": "code",
   "execution_count": 36,
   "metadata": {},
   "outputs": [
    {
     "data": {
      "text/html": [
       "<div>\n",
       "<style scoped>\n",
       "    .dataframe tbody tr th:only-of-type {\n",
       "        vertical-align: middle;\n",
       "    }\n",
       "\n",
       "    .dataframe tbody tr th {\n",
       "        vertical-align: top;\n",
       "    }\n",
       "\n",
       "    .dataframe thead th {\n",
       "        text-align: right;\n",
       "    }\n",
       "</style>\n",
       "<table border=\"1\" class=\"dataframe\">\n",
       "  <thead>\n",
       "    <tr style=\"text-align: right;\">\n",
       "      <th></th>\n",
       "      <th>age</th>\n",
       "      <th>A1Cresult</th>\n",
       "      <th>discharge_disposition_id</th>\n",
       "      <th>admission_source_id</th>\n",
       "      <th>payer_code</th>\n",
       "      <th>medical_specialty</th>\n",
       "      <th>change</th>\n",
       "      <th>diabetesMed</th>\n",
       "      <th>metformin</th>\n",
       "      <th>insulin</th>\n",
       "      <th>Genitourinaty</th>\n",
       "      <th>Skin</th>\n",
       "      <th>Musculoskeleteal</th>\n",
       "      <th>Respiratory</th>\n",
       "      <th>Noeplasms</th>\n",
       "      <th>Injury</th>\n",
       "      <th>Diabetes</th>\n",
       "    </tr>\n",
       "  </thead>\n",
       "  <tbody>\n",
       "    <tr>\n",
       "      <th>0</th>\n",
       "      <td>[0-10)</td>\n",
       "      <td>None</td>\n",
       "      <td>OTHER</td>\n",
       "      <td>1</td>\n",
       "      <td>OTHER</td>\n",
       "      <td>Pediatrics-Endocrinology</td>\n",
       "      <td>No</td>\n",
       "      <td>No</td>\n",
       "      <td>No</td>\n",
       "      <td>No</td>\n",
       "      <td>0</td>\n",
       "      <td>0</td>\n",
       "      <td>0</td>\n",
       "      <td>0</td>\n",
       "      <td>0</td>\n",
       "      <td>0</td>\n",
       "      <td>1</td>\n",
       "    </tr>\n",
       "    <tr>\n",
       "      <th>1</th>\n",
       "      <td>[10-20)</td>\n",
       "      <td>None</td>\n",
       "      <td>1</td>\n",
       "      <td>7</td>\n",
       "      <td>OTHER</td>\n",
       "      <td>OTHER</td>\n",
       "      <td>Ch</td>\n",
       "      <td>Yes</td>\n",
       "      <td>No</td>\n",
       "      <td>Up</td>\n",
       "      <td>0</td>\n",
       "      <td>0</td>\n",
       "      <td>0</td>\n",
       "      <td>0</td>\n",
       "      <td>0</td>\n",
       "      <td>0</td>\n",
       "      <td>1</td>\n",
       "    </tr>\n",
       "    <tr>\n",
       "      <th>2</th>\n",
       "      <td>[20-30)</td>\n",
       "      <td>None</td>\n",
       "      <td>1</td>\n",
       "      <td>7</td>\n",
       "      <td>OTHER</td>\n",
       "      <td>OTHER</td>\n",
       "      <td>No</td>\n",
       "      <td>Yes</td>\n",
       "      <td>No</td>\n",
       "      <td>No</td>\n",
       "      <td>0</td>\n",
       "      <td>0</td>\n",
       "      <td>0</td>\n",
       "      <td>0</td>\n",
       "      <td>0</td>\n",
       "      <td>0</td>\n",
       "      <td>1</td>\n",
       "    </tr>\n",
       "    <tr>\n",
       "      <th>3</th>\n",
       "      <td>OTHER</td>\n",
       "      <td>None</td>\n",
       "      <td>1</td>\n",
       "      <td>7</td>\n",
       "      <td>OTHER</td>\n",
       "      <td>OTHER</td>\n",
       "      <td>Ch</td>\n",
       "      <td>Yes</td>\n",
       "      <td>No</td>\n",
       "      <td>Up</td>\n",
       "      <td>0</td>\n",
       "      <td>0</td>\n",
       "      <td>0</td>\n",
       "      <td>0</td>\n",
       "      <td>0</td>\n",
       "      <td>0</td>\n",
       "      <td>1</td>\n",
       "    </tr>\n",
       "    <tr>\n",
       "      <th>4</th>\n",
       "      <td>OTHER</td>\n",
       "      <td>None</td>\n",
       "      <td>1</td>\n",
       "      <td>7</td>\n",
       "      <td>OTHER</td>\n",
       "      <td>OTHER</td>\n",
       "      <td>Ch</td>\n",
       "      <td>Yes</td>\n",
       "      <td>No</td>\n",
       "      <td>Steady</td>\n",
       "      <td>0</td>\n",
       "      <td>0</td>\n",
       "      <td>0</td>\n",
       "      <td>0</td>\n",
       "      <td>1</td>\n",
       "      <td>0</td>\n",
       "      <td>1</td>\n",
       "    </tr>\n",
       "    <tr>\n",
       "      <th>...</th>\n",
       "      <td>...</td>\n",
       "      <td>...</td>\n",
       "      <td>...</td>\n",
       "      <td>...</td>\n",
       "      <td>...</td>\n",
       "      <td>...</td>\n",
       "      <td>...</td>\n",
       "      <td>...</td>\n",
       "      <td>...</td>\n",
       "      <td>...</td>\n",
       "      <td>...</td>\n",
       "      <td>...</td>\n",
       "      <td>...</td>\n",
       "      <td>...</td>\n",
       "      <td>...</td>\n",
       "      <td>...</td>\n",
       "      <td>...</td>\n",
       "    </tr>\n",
       "    <tr>\n",
       "      <th>101761</th>\n",
       "      <td>[70-80)</td>\n",
       "      <td>&gt;8</td>\n",
       "      <td>3</td>\n",
       "      <td>7</td>\n",
       "      <td>MC</td>\n",
       "      <td>OTHER</td>\n",
       "      <td>Ch</td>\n",
       "      <td>Yes</td>\n",
       "      <td>Steady</td>\n",
       "      <td>Down</td>\n",
       "      <td>0</td>\n",
       "      <td>0</td>\n",
       "      <td>0</td>\n",
       "      <td>0</td>\n",
       "      <td>0</td>\n",
       "      <td>0</td>\n",
       "      <td>1</td>\n",
       "    </tr>\n",
       "    <tr>\n",
       "      <th>101762</th>\n",
       "      <td>[80-90)</td>\n",
       "      <td>None</td>\n",
       "      <td>OTHER</td>\n",
       "      <td>OTHER</td>\n",
       "      <td>MC</td>\n",
       "      <td>OTHER</td>\n",
       "      <td>No</td>\n",
       "      <td>Yes</td>\n",
       "      <td>No</td>\n",
       "      <td>Steady</td>\n",
       "      <td>0</td>\n",
       "      <td>0</td>\n",
       "      <td>0</td>\n",
       "      <td>0</td>\n",
       "      <td>0</td>\n",
       "      <td>0</td>\n",
       "      <td>0</td>\n",
       "    </tr>\n",
       "    <tr>\n",
       "      <th>101763</th>\n",
       "      <td>[70-80)</td>\n",
       "      <td>None</td>\n",
       "      <td>1</td>\n",
       "      <td>7</td>\n",
       "      <td>MC</td>\n",
       "      <td>OTHER</td>\n",
       "      <td>Ch</td>\n",
       "      <td>Yes</td>\n",
       "      <td>Steady</td>\n",
       "      <td>Down</td>\n",
       "      <td>1</td>\n",
       "      <td>0</td>\n",
       "      <td>0</td>\n",
       "      <td>0</td>\n",
       "      <td>0</td>\n",
       "      <td>0</td>\n",
       "      <td>0</td>\n",
       "    </tr>\n",
       "    <tr>\n",
       "      <th>101764</th>\n",
       "      <td>[80-90)</td>\n",
       "      <td>None</td>\n",
       "      <td>3</td>\n",
       "      <td>7</td>\n",
       "      <td>MC</td>\n",
       "      <td>OTHER</td>\n",
       "      <td>Ch</td>\n",
       "      <td>Yes</td>\n",
       "      <td>No</td>\n",
       "      <td>Up</td>\n",
       "      <td>0</td>\n",
       "      <td>0</td>\n",
       "      <td>0</td>\n",
       "      <td>0</td>\n",
       "      <td>0</td>\n",
       "      <td>1</td>\n",
       "      <td>0</td>\n",
       "    </tr>\n",
       "    <tr>\n",
       "      <th>101765</th>\n",
       "      <td>[70-80)</td>\n",
       "      <td>None</td>\n",
       "      <td>1</td>\n",
       "      <td>7</td>\n",
       "      <td>OTHER</td>\n",
       "      <td>OTHER</td>\n",
       "      <td>No</td>\n",
       "      <td>No</td>\n",
       "      <td>No</td>\n",
       "      <td>No</td>\n",
       "      <td>0</td>\n",
       "      <td>0</td>\n",
       "      <td>0</td>\n",
       "      <td>0</td>\n",
       "      <td>0</td>\n",
       "      <td>0</td>\n",
       "      <td>0</td>\n",
       "    </tr>\n",
       "  </tbody>\n",
       "</table>\n",
       "<p>101766 rows × 17 columns</p>\n",
       "</div>"
      ],
      "text/plain": [
       "            age A1Cresult discharge_disposition_id admission_source_id  \\\n",
       "0        [0-10)      None                    OTHER                   1   \n",
       "1       [10-20)      None                        1                   7   \n",
       "2       [20-30)      None                        1                   7   \n",
       "3         OTHER      None                        1                   7   \n",
       "4         OTHER      None                        1                   7   \n",
       "...         ...       ...                      ...                 ...   \n",
       "101761  [70-80)        >8                        3                   7   \n",
       "101762  [80-90)      None                    OTHER               OTHER   \n",
       "101763  [70-80)      None                        1                   7   \n",
       "101764  [80-90)      None                        3                   7   \n",
       "101765  [70-80)      None                        1                   7   \n",
       "\n",
       "       payer_code         medical_specialty change diabetesMed metformin  \\\n",
       "0           OTHER  Pediatrics-Endocrinology     No          No        No   \n",
       "1           OTHER                     OTHER     Ch         Yes        No   \n",
       "2           OTHER                     OTHER     No         Yes        No   \n",
       "3           OTHER                     OTHER     Ch         Yes        No   \n",
       "4           OTHER                     OTHER     Ch         Yes        No   \n",
       "...           ...                       ...    ...         ...       ...   \n",
       "101761         MC                     OTHER     Ch         Yes    Steady   \n",
       "101762         MC                     OTHER     No         Yes        No   \n",
       "101763         MC                     OTHER     Ch         Yes    Steady   \n",
       "101764         MC                     OTHER     Ch         Yes        No   \n",
       "101765      OTHER                     OTHER     No          No        No   \n",
       "\n",
       "       insulin  Genitourinaty  Skin  Musculoskeleteal  Respiratory  Noeplasms  \\\n",
       "0           No              0     0                 0            0          0   \n",
       "1           Up              0     0                 0            0          0   \n",
       "2           No              0     0                 0            0          0   \n",
       "3           Up              0     0                 0            0          0   \n",
       "4       Steady              0     0                 0            0          1   \n",
       "...        ...            ...   ...               ...          ...        ...   \n",
       "101761    Down              0     0                 0            0          0   \n",
       "101762  Steady              0     0                 0            0          0   \n",
       "101763    Down              1     0                 0            0          0   \n",
       "101764      Up              0     0                 0            0          0   \n",
       "101765      No              0     0                 0            0          0   \n",
       "\n",
       "        Injury  Diabetes  \n",
       "0            0         1  \n",
       "1            0         1  \n",
       "2            0         1  \n",
       "3            0         1  \n",
       "4            0         1  \n",
       "...        ...       ...  \n",
       "101761       0         1  \n",
       "101762       0         0  \n",
       "101763       0         0  \n",
       "101764       1         0  \n",
       "101765       0         0  \n",
       "\n",
       "[101766 rows x 17 columns]"
      ]
     },
     "execution_count": 36,
     "metadata": {},
     "output_type": "execute_result"
    }
   ],
   "source": [
    "data[selected_categorical]"
   ]
  },
  {
   "cell_type": "markdown",
   "metadata": {},
   "source": [
    "This are the most informative variables on their own (not considering interactions). 6 Of them are diagnosis variables, and the others are discharge disposition, medical speciality, payer code and admission_source_id (which give us information about the conditions of the hospitalization), age (information about the patient) and insulin, mtformin, change and diabetesMed (which give us information about the treatment)  \n",
    "Blood test A1Cresult is the 16th most informative variable. Not great."
   ]
  },
  {
   "cell_type": "markdown",
   "metadata": {},
   "source": [
    "TODO:  \n",
    "Patients who took A1C test during hospitalizatons were less likely to be readmitted in less than 30 days, regardless of test result. Why?"
   ]
  },
  {
   "cell_type": "markdown",
   "metadata": {},
   "source": [
    "### Numerical variables"
   ]
  },
  {
   "cell_type": "code",
   "execution_count": 37,
   "metadata": {},
   "outputs": [
    {
     "data": {
      "text/html": [
       "<div>\n",
       "<style scoped>\n",
       "    .dataframe tbody tr th:only-of-type {\n",
       "        vertical-align: middle;\n",
       "    }\n",
       "\n",
       "    .dataframe tbody tr th {\n",
       "        vertical-align: top;\n",
       "    }\n",
       "\n",
       "    .dataframe thead th {\n",
       "        text-align: right;\n",
       "    }\n",
       "</style>\n",
       "<table border=\"1\" class=\"dataframe\">\n",
       "  <thead>\n",
       "    <tr style=\"text-align: right;\">\n",
       "      <th></th>\n",
       "      <th>time_in_hospital</th>\n",
       "      <th>num_lab_procedures</th>\n",
       "      <th>num_procedures</th>\n",
       "      <th>num_medications</th>\n",
       "      <th>number_outpatient</th>\n",
       "      <th>number_emergency</th>\n",
       "      <th>number_inpatient</th>\n",
       "      <th>number_diagnoses</th>\n",
       "      <th>readmission</th>\n",
       "    </tr>\n",
       "  </thead>\n",
       "  <tbody>\n",
       "    <tr>\n",
       "      <th>count</th>\n",
       "      <td>101766.0</td>\n",
       "      <td>101766.0</td>\n",
       "      <td>101766.0</td>\n",
       "      <td>101766.0</td>\n",
       "      <td>101766.0</td>\n",
       "      <td>101766.0</td>\n",
       "      <td>101766.0</td>\n",
       "      <td>101766.0</td>\n",
       "      <td>101766.0</td>\n",
       "    </tr>\n",
       "    <tr>\n",
       "      <th>mean</th>\n",
       "      <td>4.4</td>\n",
       "      <td>43.1</td>\n",
       "      <td>1.3</td>\n",
       "      <td>16.0</td>\n",
       "      <td>0.4</td>\n",
       "      <td>0.2</td>\n",
       "      <td>0.6</td>\n",
       "      <td>7.4</td>\n",
       "      <td>0.1</td>\n",
       "    </tr>\n",
       "    <tr>\n",
       "      <th>std</th>\n",
       "      <td>3.0</td>\n",
       "      <td>19.7</td>\n",
       "      <td>1.7</td>\n",
       "      <td>8.1</td>\n",
       "      <td>1.3</td>\n",
       "      <td>0.9</td>\n",
       "      <td>1.3</td>\n",
       "      <td>1.9</td>\n",
       "      <td>0.3</td>\n",
       "    </tr>\n",
       "    <tr>\n",
       "      <th>min</th>\n",
       "      <td>1.0</td>\n",
       "      <td>1.0</td>\n",
       "      <td>0.0</td>\n",
       "      <td>1.0</td>\n",
       "      <td>0.0</td>\n",
       "      <td>0.0</td>\n",
       "      <td>0.0</td>\n",
       "      <td>1.0</td>\n",
       "      <td>0.0</td>\n",
       "    </tr>\n",
       "    <tr>\n",
       "      <th>25%</th>\n",
       "      <td>2.0</td>\n",
       "      <td>31.0</td>\n",
       "      <td>0.0</td>\n",
       "      <td>10.0</td>\n",
       "      <td>0.0</td>\n",
       "      <td>0.0</td>\n",
       "      <td>0.0</td>\n",
       "      <td>6.0</td>\n",
       "      <td>0.0</td>\n",
       "    </tr>\n",
       "    <tr>\n",
       "      <th>50%</th>\n",
       "      <td>4.0</td>\n",
       "      <td>44.0</td>\n",
       "      <td>1.0</td>\n",
       "      <td>15.0</td>\n",
       "      <td>0.0</td>\n",
       "      <td>0.0</td>\n",
       "      <td>0.0</td>\n",
       "      <td>8.0</td>\n",
       "      <td>0.0</td>\n",
       "    </tr>\n",
       "    <tr>\n",
       "      <th>75%</th>\n",
       "      <td>6.0</td>\n",
       "      <td>57.0</td>\n",
       "      <td>2.0</td>\n",
       "      <td>20.0</td>\n",
       "      <td>0.0</td>\n",
       "      <td>0.0</td>\n",
       "      <td>1.0</td>\n",
       "      <td>9.0</td>\n",
       "      <td>0.0</td>\n",
       "    </tr>\n",
       "    <tr>\n",
       "      <th>max</th>\n",
       "      <td>14.0</td>\n",
       "      <td>132.0</td>\n",
       "      <td>6.0</td>\n",
       "      <td>81.0</td>\n",
       "      <td>42.0</td>\n",
       "      <td>76.0</td>\n",
       "      <td>21.0</td>\n",
       "      <td>16.0</td>\n",
       "      <td>1.0</td>\n",
       "    </tr>\n",
       "  </tbody>\n",
       "</table>\n",
       "</div>"
      ],
      "text/plain": [
       "       time_in_hospital  num_lab_procedures  num_procedures  num_medications  \\\n",
       "count          101766.0            101766.0        101766.0         101766.0   \n",
       "mean                4.4                43.1             1.3             16.0   \n",
       "std                 3.0                19.7             1.7              8.1   \n",
       "min                 1.0                 1.0             0.0              1.0   \n",
       "25%                 2.0                31.0             0.0             10.0   \n",
       "50%                 4.0                44.0             1.0             15.0   \n",
       "75%                 6.0                57.0             2.0             20.0   \n",
       "max                14.0               132.0             6.0             81.0   \n",
       "\n",
       "       number_outpatient  number_emergency  number_inpatient  \\\n",
       "count           101766.0          101766.0          101766.0   \n",
       "mean                 0.4               0.2               0.6   \n",
       "std                  1.3               0.9               1.3   \n",
       "min                  0.0               0.0               0.0   \n",
       "25%                  0.0               0.0               0.0   \n",
       "50%                  0.0               0.0               0.0   \n",
       "75%                  0.0               0.0               1.0   \n",
       "max                 42.0              76.0              21.0   \n",
       "\n",
       "       number_diagnoses  readmission  \n",
       "count          101766.0     101766.0  \n",
       "mean                7.4          0.1  \n",
       "std                 1.9          0.3  \n",
       "min                 1.0          0.0  \n",
       "25%                 6.0          0.0  \n",
       "50%                 8.0          0.0  \n",
       "75%                 9.0          0.0  \n",
       "max                16.0          1.0  "
      ]
     },
     "execution_count": 37,
     "metadata": {},
     "output_type": "execute_result"
    }
   ],
   "source": [
    "data[[*numerical, 'readmission']].describe().round(1)"
   ]
  },
  {
   "cell_type": "code",
   "execution_count": 38,
   "metadata": {},
   "outputs": [
    {
     "data": {
      "image/png": "[encoded data removed]",
      "text/plain": [
       "<Figure size 1440x1080 with 9 Axes>"
      ]
     },
     "metadata": {
      "needs_background": "light"
     },
     "output_type": "display_data"
    }
   ],
   "source": [
    "histogram = data[[*numerical, 'readmission']].hist(bins=10, figsize=(20,15))"
   ]
  },
  {
   "cell_type": "code",
   "execution_count": 39,
   "metadata": {},
   "outputs": [
    {
     "data": {
      "image/png": "[encoded data removed]",
      "text/plain": [
       "<Figure size 1152x1152 with 25 Axes>"
      ]
     },
     "metadata": {
      "needs_background": "light"
     },
     "output_type": "display_data"
    }
   ],
   "source": [
    "from pandas.plotting import scatter_matrix\n",
    "\n",
    "scatter = scatter_matrix(data[['time_in_hospital',\n",
    " 'num_lab_procedures',\n",
    " 'num_procedures',\n",
    " 'num_medications',\n",
    " 'number_diagnoses']].sample(len(data) // 25), figsize=(16, 16))"
   ]
  },
  {
   "cell_type": "code",
   "execution_count": 40,
   "metadata": {},
   "outputs": [
    {
     "data": {
      "image/png": "[encoded data removed]",
      "text/plain": [
       "<Figure size 576x576 with 4 Axes>"
      ]
     },
     "metadata": {
      "needs_background": "light"
     },
     "output_type": "display_data"
    }
   ],
   "source": [
    "skewed_vars = ['number_outpatient', 'number_emergency', 'number_inpatient']\n",
    "logtransf = np.log10(data[skewed_vars] + 1)\n",
    "logtransf = logtransf.sub(logtransf.mean()).div(logtransf.std())\n",
    "foo = logtransf.hist(bins=10, figsize=(8,8))"
   ]
  },
  {
   "cell_type": "code",
   "execution_count": 41,
   "metadata": {},
   "outputs": [
    {
     "data": {
      "image/png": "[encoded data removed]",
      "text/plain": [
       "<Figure size 432x288 with 1 Axes>"
      ]
     },
     "metadata": {
      "needs_background": "light"
     },
     "output_type": "display_data"
    },
    {
     "data": {
      "image/png": "[encoded data removed]",
      "text/plain": [
       "<Figure size 432x288 with 1 Axes>"
      ]
     },
     "metadata": {
      "needs_background": "light"
     },
     "output_type": "display_data"
    },
    {
     "data": {
      "image/png": "[encoded data removed]",
      "text/plain": [
       "<Figure size 432x288 with 1 Axes>"
      ]
     },
     "metadata": {
      "needs_background": "light"
     },
     "output_type": "display_data"
    },
    {
     "data": {
      "image/png": "[encoded data removed]",
      "text/plain": [
       "<Figure size 432x288 with 1 Axes>"
      ]
     },
     "metadata": {
      "needs_background": "light"
     },
     "output_type": "display_data"
    },
    {
     "data": {
      "image/png": "[encoded data removed]",
      "text/plain": [
       "<Figure size 432x288 with 1 Axes>"
      ]
     },
     "metadata": {
      "needs_background": "light"
     },
     "output_type": "display_data"
    },
    {
     "data": {
      "image/png": "[encoded data removed]",
      "text/plain": [
       "<Figure size 432x288 with 1 Axes>"
      ]
     },
     "metadata": {
      "needs_background": "light"
     },
     "output_type": "display_data"
    },
    {
     "data": {
      "image/png": "[encoded data removed]",
      "text/plain": [
       "<Figure size 432x288 with 1 Axes>"
      ]
     },
     "metadata": {
      "needs_background": "light"
     },
     "output_type": "display_data"
    },
    {
     "data": {
      "image/png": "[encoded data removed]",
      "text/plain": [
       "<Figure size 432x288 with 1 Axes>"
      ]
     },
     "metadata": {
      "needs_background": "light"
     },
     "output_type": "display_data"
    }
   ],
   "source": [
    "for var in numerical:\n",
    "    vizdata = data\\\n",
    "        .groupby(var)\\\n",
    "        ['readmission']\\\n",
    "        .agg(['mean', 'count'])\\\n",
    "        .reset_index()\n",
    "    numer_plot = sns.scatterplot(data=vizdata, x=var, y='mean', size='count')\n",
    "    plt.show()\n",
    "    "
   ]
  },
  {
   "cell_type": "markdown",
   "metadata": {},
   "source": [
    "TODO: HAcer la normalizacion con pipeline para poder hacer transformaciones sobre datos nuevos"
   ]
  },
  {
   "cell_type": "markdown",
   "metadata": {},
   "source": [
    "## Preparing the data for the model"
   ]
  },
  {
   "cell_type": "code",
   "execution_count": 42,
   "metadata": {},
   "outputs": [],
   "source": [
    "from sklearn.pipeline import Pipeline\n",
    "from sklearn.preprocessing import StandardScaler, OneHotEncoder, PowerTransformer\n",
    "from sklearn.compose import ColumnTransformer"
   ]
  },
  {
   "cell_type": "code",
   "execution_count": 45,
   "metadata": {},
   "outputs": [],
   "source": [
    "train_data, test_data = train_test_split(data, test_size=0.1, random_state=70)"
   ]
  },
  {
   "cell_type": "code",
   "execution_count": 52,
   "metadata": {},
   "outputs": [],
   "source": [
    "drop_group_list = ['OTHER', 'None', 'OTHER', 'OTHER', 'OTHER', 'OTHER', 'No', 'No', 'No', 'No', 0, 0, 0, 0, 0, 0, 0]\n",
    "\n",
    "data_pipeline = ColumnTransformer([\n",
    "    ('num', PowerTransformer(method='yeo-johnson', standardize=True), numerical),\n",
    "    ('cat', OneHotEncoder(drop=drop_group_list, handle_unknown='ignore'), selected_categorical)\n",
    "])\n",
    "\n",
    "data_prepared = data_pipeline.fit_transform(train_data.drop('readmission', axis=1))\n",
    "labels = train_data[\"readmission\"].copy()\n",
    "\n",
    "test_data_prepared = data_pipeline.transform(test_data.drop('readmission', axis=1))\n",
    "test_labels = test_data[\"readmission\"].copy()"
   ]
  },
  {
   "cell_type": "markdown",
   "metadata": {},
   "source": [
    "## Model"
   ]
  },
  {
   "cell_type": "code",
   "execution_count": 53,
   "metadata": {},
   "outputs": [
    {
     "data": {
      "text/plain": [
       "RandomizedSearchCV(cv=3,\n",
       "                   estimator=RandomForestClassifier(n_jobs=-1, random_state=42,\n",
       "                                                    warm_start=True),\n",
       "                   n_iter=15,\n",
       "                   param_distributions={'max_depth': array([ 199,  217,  104,  214,  773,  142,  246,  472,  368,  221,  938,\n",
       "        216,  151,  137,  212,  820,  904,   73,  235,   82,  142,  217,\n",
       "        381,  147,  264,  672,  243,   99,  721,   81,  531,  242,  297,\n",
       "        105,   68,  137,  864,  142,  190,  626,  165,  442,  498,  290,\n",
       "        424,  181,   91,  244,  133,  510,  380,  16...\n",
       "        575,  898,  294,   16,  202,  439,  211,   67,   41,  241,   95,\n",
       "        200,   59,  273,   32,   55,   38,  394,   59,  520,  217,  144,\n",
       "         31,  468,  118,  627,  416,  298,  236, 1015,   90,  895,  432,\n",
       "        305,  161,  176,  944,   69,  146,  433,  497,   46,   17,   31,\n",
       "        646,   24,  235,   49,   79,  224,  585,  281,   22,  508,  122,\n",
       "         61,  265,  120,  175,   92,  112,   29,  156,  485,   87,   24,\n",
       "        106,  716,  272,  760,  959,  307,  593,  478,  747,  236,  162,\n",
       "        473,  243,   18,  855,   66,  149,  389,   41,  409,   85])},\n",
       "                   random_state=42, scoring='roc_auc')"
      ]
     },
     "execution_count": 53,
     "metadata": {},
     "output_type": "execute_result"
    }
   ],
   "source": [
    "from sklearn.model_selection import RandomizedSearchCV\n",
    "from scipy.stats import randint\n",
    "from sklearn.ensemble import RandomForestClassifier\n",
    "from scipy.stats import geom\n",
    "\n",
    "param_distribs = {\n",
    "        'n_estimators': reciprocal.rvs(a=2**4,b=2**10, size=1000).astype(int),\n",
    "        'min_samples_leaf': reciprocal.rvs(a=2**0,b=2**8, size=1000).astype(int),\n",
    "        'max_depth': reciprocal.rvs(a=2**6,b=2**10, size=1000).astype(int)\n",
    "        \n",
    "    }\n",
    "\n",
    "forest_clas = RandomForestClassifier(random_state=42, warm_start=True, n_jobs=-1)\n",
    "rnd_search = RandomizedSearchCV(\n",
    "    forest_clas, param_distributions=param_distribs,\n",
    "    n_iter=15, cv=3, random_state=42, scoring='roc_auc')\n",
    "rnd_search.fit(data_prepared, labels)"
   ]
  },
  {
   "cell_type": "code",
   "execution_count": 54,
   "metadata": {},
   "outputs": [],
   "source": [
    "grid_search_results = pd.concat([\n",
    "    pd.DataFrame(rnd_search.cv_results_[\"params\"]),\n",
    "    pd.DataFrame(rnd_search.cv_results_[\"mean_test_score\"], columns=[\"roc_auc\"])],\n",
    "    axis=1)\\\n",
    "    .sort_values('roc_auc', ascending=False)"
   ]
  },
  {
   "cell_type": "code",
   "execution_count": 55,
   "metadata": {},
   "outputs": [
    {
     "data": {
      "text/html": [
       "<div>\n",
       "<style scoped>\n",
       "    .dataframe tbody tr th:only-of-type {\n",
       "        vertical-align: middle;\n",
       "    }\n",
       "\n",
       "    .dataframe tbody tr th {\n",
       "        vertical-align: top;\n",
       "    }\n",
       "\n",
       "    .dataframe thead th {\n",
       "        text-align: right;\n",
       "    }\n",
       "</style>\n",
       "<table border=\"1\" class=\"dataframe\">\n",
       "  <thead>\n",
       "    <tr style=\"text-align: right;\">\n",
       "      <th></th>\n",
       "      <th>n_estimators</th>\n",
       "      <th>min_samples_leaf</th>\n",
       "      <th>max_depth</th>\n",
       "      <th>roc_auc</th>\n",
       "    </tr>\n",
       "  </thead>\n",
       "  <tbody>\n",
       "    <tr>\n",
       "      <th>min</th>\n",
       "      <td>564.0</td>\n",
       "      <td>32.0</td>\n",
       "      <td>189.0</td>\n",
       "      <td>0.671637</td>\n",
       "    </tr>\n",
       "    <tr>\n",
       "      <th>max</th>\n",
       "      <td>850.0</td>\n",
       "      <td>39.0</td>\n",
       "      <td>917.0</td>\n",
       "      <td>0.671902</td>\n",
       "    </tr>\n",
       "    <tr>\n",
       "      <th>median</th>\n",
       "      <td>706.0</td>\n",
       "      <td>39.0</td>\n",
       "      <td>289.0</td>\n",
       "      <td>0.671709</td>\n",
       "    </tr>\n",
       "  </tbody>\n",
       "</table>\n",
       "</div>"
      ],
      "text/plain": [
       "        n_estimators  min_samples_leaf  max_depth   roc_auc\n",
       "min            564.0              32.0      189.0  0.671637\n",
       "max            850.0              39.0      917.0  0.671902\n",
       "median         706.0              39.0      289.0  0.671709"
      ]
     },
     "execution_count": 55,
     "metadata": {},
     "output_type": "execute_result"
    }
   ],
   "source": [
    "grid_search_results.head(3).agg(['min', 'max', 'median'])"
   ]
  },
  {
   "cell_type": "code",
   "execution_count": 56,
   "metadata": {},
   "outputs": [
    {
     "data": {
      "text/html": [
       "<div>\n",
       "<style scoped>\n",
       "    .dataframe tbody tr th:only-of-type {\n",
       "        vertical-align: middle;\n",
       "    }\n",
       "\n",
       "    .dataframe tbody tr th {\n",
       "        vertical-align: top;\n",
       "    }\n",
       "\n",
       "    .dataframe thead th {\n",
       "        text-align: right;\n",
       "    }\n",
       "</style>\n",
       "<table border=\"1\" class=\"dataframe\">\n",
       "  <thead>\n",
       "    <tr style=\"text-align: right;\">\n",
       "      <th></th>\n",
       "      <th>n_estimators</th>\n",
       "      <th>min_samples_leaf</th>\n",
       "      <th>max_depth</th>\n",
       "      <th>roc_auc</th>\n",
       "    </tr>\n",
       "  </thead>\n",
       "  <tbody>\n",
       "    <tr>\n",
       "      <th>min</th>\n",
       "      <td>22.0</td>\n",
       "      <td>1.0</td>\n",
       "      <td>68.0</td>\n",
       "      <td>0.624808</td>\n",
       "    </tr>\n",
       "    <tr>\n",
       "      <th>max</th>\n",
       "      <td>850.0</td>\n",
       "      <td>173.0</td>\n",
       "      <td>917.0</td>\n",
       "      <td>0.671902</td>\n",
       "    </tr>\n",
       "    <tr>\n",
       "      <th>median</th>\n",
       "      <td>181.0</td>\n",
       "      <td>39.0</td>\n",
       "      <td>173.0</td>\n",
       "      <td>0.669089</td>\n",
       "    </tr>\n",
       "  </tbody>\n",
       "</table>\n",
       "</div>"
      ],
      "text/plain": [
       "        n_estimators  min_samples_leaf  max_depth   roc_auc\n",
       "min             22.0               1.0       68.0  0.624808\n",
       "max            850.0             173.0      917.0  0.671902\n",
       "median         181.0              39.0      173.0  0.669089"
      ]
     },
     "execution_count": 56,
     "metadata": {},
     "output_type": "execute_result"
    }
   ],
   "source": [
    "grid_search_results.agg(['min', 'max', 'median'])"
   ]
  },
  {
   "cell_type": "code",
   "execution_count": 57,
   "metadata": {},
   "outputs": [
    {
     "data": {
      "text/html": [
       "<div>\n",
       "<style scoped>\n",
       "    .dataframe tbody tr th:only-of-type {\n",
       "        vertical-align: middle;\n",
       "    }\n",
       "\n",
       "    .dataframe tbody tr th {\n",
       "        vertical-align: top;\n",
       "    }\n",
       "\n",
       "    .dataframe thead th {\n",
       "        text-align: right;\n",
       "    }\n",
       "</style>\n",
       "<table border=\"1\" class=\"dataframe\">\n",
       "  <thead>\n",
       "    <tr style=\"text-align: right;\">\n",
       "      <th></th>\n",
       "      <th>n_estimators</th>\n",
       "      <th>min_samples_leaf</th>\n",
       "      <th>max_depth</th>\n",
       "      <th>roc_auc</th>\n",
       "    </tr>\n",
       "  </thead>\n",
       "  <tbody>\n",
       "    <tr>\n",
       "      <th>14</th>\n",
       "      <td>564</td>\n",
       "      <td>32</td>\n",
       "      <td>917</td>\n",
       "      <td>0.671902</td>\n",
       "    </tr>\n",
       "  </tbody>\n",
       "</table>\n",
       "</div>"
      ],
      "text/plain": [
       "    n_estimators  min_samples_leaf  max_depth   roc_auc\n",
       "14           564                32        917  0.671902"
      ]
     },
     "execution_count": 57,
     "metadata": {},
     "output_type": "execute_result"
    }
   ],
   "source": [
    "grid_search_results.head(1)"
   ]
  },
  {
   "cell_type": "code",
   "execution_count": 58,
   "metadata": {},
   "outputs": [],
   "source": [
    "def score_df(labels, prediction, score, index=0):\n",
    "    return pd.DataFrame([{\n",
    "        \"accuracy\": accuracy_score(labels, prediction),\n",
    "        \"recall\": recall_score(labels, prediction),\n",
    "        \"precision\": precision_score(labels, prediction),\n",
    "        \"f1\": f1_score(labels, prediction),\n",
    "        \"auc\": roc_auc_score(labels, score),\n",
    "        \"log_loss\": log_loss(labels, score)}], index=[index])"
   ]
  },
  {
   "cell_type": "code",
   "execution_count": 59,
   "metadata": {},
   "outputs": [],
   "source": [
    "best_rf = rnd_search.best_estimator_"
   ]
  },
  {
   "cell_type": "code",
   "execution_count": 63,
   "metadata": {},
   "outputs": [
    {
     "name": "stderr",
     "output_type": "stream",
     "text": [
      "C:\\Users\\Usuario\\anaconda3\\lib\\site-packages\\sklearn\\metrics\\_classification.py:1318: UndefinedMetricWarning: Precision is ill-defined and being set to 0.0 due to no predicted samples. Use `zero_division` parameter to control this behavior.\n",
      "  _warn_prf(average, modifier, msg_start, len(result))\n"
     ]
    },
    {
     "data": {
      "text/html": [
       "<div>\n",
       "<style scoped>\n",
       "    .dataframe tbody tr th:only-of-type {\n",
       "        vertical-align: middle;\n",
       "    }\n",
       "\n",
       "    .dataframe tbody tr th {\n",
       "        vertical-align: top;\n",
       "    }\n",
       "\n",
       "    .dataframe thead th {\n",
       "        text-align: right;\n",
       "    }\n",
       "</style>\n",
       "<table border=\"1\" class=\"dataframe\">\n",
       "  <thead>\n",
       "    <tr style=\"text-align: right;\">\n",
       "      <th></th>\n",
       "      <th>accuracy</th>\n",
       "      <th>recall</th>\n",
       "      <th>precision</th>\n",
       "      <th>f1</th>\n",
       "      <th>auc</th>\n",
       "      <th>log_loss</th>\n",
       "    </tr>\n",
       "  </thead>\n",
       "  <tbody>\n",
       "    <tr>\n",
       "      <th>0</th>\n",
       "      <td>0.889358</td>\n",
       "      <td>0.0</td>\n",
       "      <td>0.0</td>\n",
       "      <td>0.0</td>\n",
       "      <td>0.680378</td>\n",
       "      <td>0.327282</td>\n",
       "    </tr>\n",
       "  </tbody>\n",
       "</table>\n",
       "</div>"
      ],
      "text/plain": [
       "   accuracy  recall  precision   f1       auc  log_loss\n",
       "0  0.889358     0.0        0.0  0.0  0.680378  0.327282"
      ]
     },
     "execution_count": 63,
     "metadata": {},
     "output_type": "execute_result"
    }
   ],
   "source": [
    "score_df(\n",
    "    test_labels, \n",
    "    best_rf.predict(test_data_prepared), \n",
    "    best_rf.predict_proba(test_data_prepared)[:,1])\n"
   ]
  },
  {
   "cell_type": "markdown",
   "metadata": {},
   "source": [
    "The model is not good enough to work with a 50% threashold. "
   ]
  },
  {
   "cell_type": "code",
   "execution_count": 65,
   "metadata": {},
   "outputs": [
    {
     "data": {
      "text/plain": [
       "sklearn.metrics._plot.confusion_matrix.ConfusionMatrixDisplay"
      ]
     },
     "execution_count": 65,
     "metadata": {},
     "output_type": "execute_result"
    }
   ],
   "source": [
    "# test function\n",
    "from sklearn.metrics import confusion_matrix, plot_confusion_matrix, ConfusionMatrixDisplay"
   ]
  },
  {
   "cell_type": "code",
   "execution_count": 81,
   "metadata": {},
   "outputs": [
    {
     "data": {
      "text/plain": [
       "<sklearn.metrics._plot.confusion_matrix.ConfusionMatrixDisplay at 0x29b20124808>"
      ]
     },
     "execution_count": 81,
     "metadata": {},
     "output_type": "execute_result"
    },
    {
     "data": {
      "image/png": "[encoded data removed]",
      "text/plain": [
       "<Figure size 432x288 with 2 Axes>"
      ]
     },
     "metadata": {
      "needs_background": "light"
     },
     "output_type": "display_data"
    }
   ],
   "source": [
    "conf_mat = ConfusionMatrixDisplay.from_predictions(\n",
    "    test_labels, \n",
    "    best_rf.predict_proba(test_data_prepared)[:,1] > 0.13)\n",
    "conf_mat"
   ]
  }
 ],
 "metadata": {
  "kernelspec": {
   "display_name": "dataEnv",
   "language": "python",
   "name": "dataenv"
  },
  "language_info": {
   "codemirror_mode": {
    "name": "ipython",
    "version": 3
   },
   "file_extension": ".py",
   "mimetype": "text/x-python",
   "name": "python",
   "nbconvert_exporter": "python",
   "pygments_lexer": "ipython3",
   "version": "3.7.6"
  }
 },
 "nbformat": 4,
 "nbformat_minor": 4
}
